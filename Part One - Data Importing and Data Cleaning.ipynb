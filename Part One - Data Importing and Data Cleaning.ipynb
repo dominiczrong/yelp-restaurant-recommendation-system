{
 "cells": [
  {
   "cell_type": "markdown",
   "metadata": {},
   "source": [
    "# Data Importing and Data Cleaning"
   ]
  },
  {
   "cell_type": "markdown",
   "metadata": {},
   "source": [
    "This notebook will mainly cover the steps I've taken to import and clean the datasets from Kaggle. For more detailed descriptions on the problem statement and methodology of my Capstone Project, please refer to the `Part 2` Jupyter Notebook in this Repository."
   ]
  },
  {
   "cell_type": "code",
   "execution_count": 1,
   "metadata": {
    "ExecuteTime": {
     "end_time": "2020-10-14T11:08:45.836466Z",
     "start_time": "2020-10-14T11:08:43.592024Z"
    }
   },
   "outputs": [],
   "source": [
    "# Importing Basic Packages\n",
    "\n",
    "import json\n",
    "import csv\n",
    "import matplotlib.pyplot as plt\n",
    "import pandas as pd\n",
    "import seaborn as sns\n",
    "from tqdm import tqdm, tqdm_notebook, tnrange\n",
    "\n",
    "# Display Settings\n",
    "\n",
    "pd.set_option('display.max_columns', 50)"
   ]
  },
  {
   "cell_type": "markdown",
   "metadata": {},
   "source": [
    "From the Kaggle Dataset, the 3 main json files that I will be importing and analyzing for my Capstone Project are the `business`, `review` and `user` files."
   ]
  },
  {
   "cell_type": "markdown",
   "metadata": {},
   "source": [
    "### Business File"
   ]
  },
  {
   "cell_type": "code",
   "execution_count": 2,
   "metadata": {
    "ExecuteTime": {
     "end_time": "2020-10-14T11:08:52.050252Z",
     "start_time": "2020-10-14T11:08:45.839003Z"
    }
   },
   "outputs": [
    {
     "data": {
      "text/plain": [
       "209393"
      ]
     },
     "execution_count": 2,
     "metadata": {},
     "output_type": "execute_result"
    }
   ],
   "source": [
    "# Importing Yelp Business JSON File\n",
    "\n",
    "business = []\n",
    "\n",
    "with open(\"Data/Kaggle/yelp_academic_dataset_business.json\") as f:\n",
    "    for line in f:\n",
    "        business.append(json.loads(line))\n",
    "\n",
    "# Length of rows of Data\n",
    "\n",
    "len(business)  # 209,393 rows of business"
   ]
  },
  {
   "cell_type": "code",
   "execution_count": 3,
   "metadata": {
    "ExecuteTime": {
     "end_time": "2020-10-14T11:08:52.062075Z",
     "start_time": "2020-10-14T11:08:52.055032Z"
    }
   },
   "outputs": [
    {
     "data": {
      "text/plain": [
       "{'business_id': 'f9NumwFMBDn751xgFiRbNA',\n",
       " 'name': 'The Range At Lake Norman',\n",
       " 'address': '10913 Bailey Rd',\n",
       " 'city': 'Cornelius',\n",
       " 'state': 'NC',\n",
       " 'postal_code': '28031',\n",
       " 'latitude': 35.4627242,\n",
       " 'longitude': -80.8526119,\n",
       " 'stars': 3.5,\n",
       " 'review_count': 36,\n",
       " 'is_open': 1,\n",
       " 'attributes': {'BusinessAcceptsCreditCards': 'True',\n",
       "  'BikeParking': 'True',\n",
       "  'GoodForKids': 'False',\n",
       "  'BusinessParking': \"{'garage': False, 'street': False, 'validated': False, 'lot': True, 'valet': False}\",\n",
       "  'ByAppointmentOnly': 'False',\n",
       "  'RestaurantsPriceRange2': '3'},\n",
       " 'categories': 'Active Life, Gun/Rifle Ranges, Guns & Ammo, Shopping',\n",
       " 'hours': {'Monday': '10:0-18:0',\n",
       "  'Tuesday': '11:0-20:0',\n",
       "  'Wednesday': '10:0-18:0',\n",
       "  'Thursday': '11:0-20:0',\n",
       "  'Friday': '11:0-20:0',\n",
       "  'Saturday': '11:0-20:0',\n",
       "  'Sunday': '13:0-18:0'}}"
      ]
     },
     "execution_count": 3,
     "metadata": {},
     "output_type": "execute_result"
    }
   ],
   "source": [
    "# Overview of columns of each entry of business file\n",
    "\n",
    "business[0]"
   ]
  },
  {
   "cell_type": "markdown",
   "metadata": {},
   "source": [
    "Now that we know the column names of this file, we now can proceed to create our dataframe for this file."
   ]
  },
  {
   "cell_type": "code",
   "execution_count": 4,
   "metadata": {
    "ExecuteTime": {
     "end_time": "2020-10-14T11:08:54.196483Z",
     "start_time": "2020-10-14T11:08:52.064847Z"
    }
   },
   "outputs": [
    {
     "name": "stdout",
     "output_type": "stream",
     "text": [
      "(209393, 11)\n"
     ]
    },
    {
     "data": {
      "text/html": [
       "<div>\n",
       "<style scoped>\n",
       "    .dataframe tbody tr th:only-of-type {\n",
       "        vertical-align: middle;\n",
       "    }\n",
       "\n",
       "    .dataframe tbody tr th {\n",
       "        vertical-align: top;\n",
       "    }\n",
       "\n",
       "    .dataframe thead th {\n",
       "        text-align: right;\n",
       "    }\n",
       "</style>\n",
       "<table border=\"1\" class=\"dataframe\">\n",
       "  <thead>\n",
       "    <tr style=\"text-align: right;\">\n",
       "      <th></th>\n",
       "      <th>business_id</th>\n",
       "      <th>name</th>\n",
       "      <th>city</th>\n",
       "      <th>state</th>\n",
       "      <th>stars</th>\n",
       "      <th>review_count</th>\n",
       "      <th>categories</th>\n",
       "      <th>latitude</th>\n",
       "      <th>longitude</th>\n",
       "      <th>is_open</th>\n",
       "      <th>postal_code</th>\n",
       "    </tr>\n",
       "  </thead>\n",
       "  <tbody>\n",
       "    <tr>\n",
       "      <th>0</th>\n",
       "      <td>f9NumwFMBDn751xgFiRbNA</td>\n",
       "      <td>The Range At Lake Norman</td>\n",
       "      <td>Cornelius</td>\n",
       "      <td>NC</td>\n",
       "      <td>3.5</td>\n",
       "      <td>36</td>\n",
       "      <td>Active Life, Gun/Rifle Ranges, Guns &amp; Ammo, Sh...</td>\n",
       "      <td>35.462724</td>\n",
       "      <td>-80.852612</td>\n",
       "      <td>1</td>\n",
       "      <td>28031</td>\n",
       "    </tr>\n",
       "    <tr>\n",
       "      <th>1</th>\n",
       "      <td>Yzvjg0SayhoZgCljUJRF9Q</td>\n",
       "      <td>Carlos Santo, NMD</td>\n",
       "      <td>Scottsdale</td>\n",
       "      <td>AZ</td>\n",
       "      <td>5.0</td>\n",
       "      <td>4</td>\n",
       "      <td>Health &amp; Medical, Fitness &amp; Instruction, Yoga,...</td>\n",
       "      <td>33.569404</td>\n",
       "      <td>-111.890264</td>\n",
       "      <td>1</td>\n",
       "      <td>85258</td>\n",
       "    </tr>\n",
       "    <tr>\n",
       "      <th>2</th>\n",
       "      <td>XNoUzKckATkOD1hP6vghZg</td>\n",
       "      <td>Felinus</td>\n",
       "      <td>Montreal</td>\n",
       "      <td>QC</td>\n",
       "      <td>5.0</td>\n",
       "      <td>5</td>\n",
       "      <td>Pets, Pet Services, Pet Groomers</td>\n",
       "      <td>45.479984</td>\n",
       "      <td>-73.580070</td>\n",
       "      <td>1</td>\n",
       "      <td>H4C 1P4</td>\n",
       "    </tr>\n",
       "    <tr>\n",
       "      <th>3</th>\n",
       "      <td>6OAZjbxqM5ol29BuHsil3w</td>\n",
       "      <td>Nevada House of Hose</td>\n",
       "      <td>North Las Vegas</td>\n",
       "      <td>NV</td>\n",
       "      <td>2.5</td>\n",
       "      <td>3</td>\n",
       "      <td>Hardware Stores, Home Services, Building Suppl...</td>\n",
       "      <td>36.219728</td>\n",
       "      <td>-115.127725</td>\n",
       "      <td>0</td>\n",
       "      <td>89030</td>\n",
       "    </tr>\n",
       "    <tr>\n",
       "      <th>4</th>\n",
       "      <td>51M2Kk903DFYI6gnB5I6SQ</td>\n",
       "      <td>USE MY GUY SERVICES LLC</td>\n",
       "      <td>Mesa</td>\n",
       "      <td>AZ</td>\n",
       "      <td>4.5</td>\n",
       "      <td>26</td>\n",
       "      <td>Home Services, Plumbing, Electricians, Handyma...</td>\n",
       "      <td>33.428065</td>\n",
       "      <td>-111.726648</td>\n",
       "      <td>1</td>\n",
       "      <td>85205</td>\n",
       "    </tr>\n",
       "  </tbody>\n",
       "</table>\n",
       "</div>"
      ],
      "text/plain": [
       "             business_id                       name             city state  \\\n",
       "0  f9NumwFMBDn751xgFiRbNA  The Range At Lake Norman        Cornelius    NC   \n",
       "1  Yzvjg0SayhoZgCljUJRF9Q         Carlos Santo, NMD       Scottsdale    AZ   \n",
       "2  XNoUzKckATkOD1hP6vghZg                   Felinus         Montreal    QC   \n",
       "3  6OAZjbxqM5ol29BuHsil3w      Nevada House of Hose  North Las Vegas    NV   \n",
       "4  51M2Kk903DFYI6gnB5I6SQ   USE MY GUY SERVICES LLC             Mesa    AZ   \n",
       "\n",
       "   stars  review_count                                         categories  \\\n",
       "0    3.5            36  Active Life, Gun/Rifle Ranges, Guns & Ammo, Sh...   \n",
       "1    5.0             4  Health & Medical, Fitness & Instruction, Yoga,...   \n",
       "2    5.0             5                   Pets, Pet Services, Pet Groomers   \n",
       "3    2.5             3  Hardware Stores, Home Services, Building Suppl...   \n",
       "4    4.5            26  Home Services, Plumbing, Electricians, Handyma...   \n",
       "\n",
       "    latitude   longitude  is_open postal_code  \n",
       "0  35.462724  -80.852612        1       28031  \n",
       "1  33.569404 -111.890264        1       85258  \n",
       "2  45.479984  -73.580070        1     H4C 1P4  \n",
       "3  36.219728 -115.127725        0       89030  \n",
       "4  33.428065 -111.726648        1       85205  "
      ]
     },
     "execution_count": 4,
     "metadata": {},
     "output_type": "execute_result"
    }
   ],
   "source": [
    "## Creating Dataframe for business json file\n",
    "\n",
    "# Creating Columns for our Dataframe\n",
    "\n",
    "business_id = []\n",
    "city = []\n",
    "state = []\n",
    "stars = []\n",
    "review_count = []\n",
    "categories = []\n",
    "postal_code = []\n",
    "latitude = []\n",
    "longitude = []\n",
    "pricerange = []\n",
    "is_open = []\n",
    "name = []\n",
    "\n",
    "# Iterating through each row of the json file\n",
    "\n",
    "for entry in range(0, len(business)): \n",
    "        business_id.append(business[entry]['business_id'])\n",
    "        name.append(business[entry]['name'])\n",
    "        city.append(business[entry]['city'])\n",
    "        state.append(business[entry]['state'])\n",
    "        stars.append(business[entry]['stars'])\n",
    "        postal_code.append(business[entry]['postal_code'])\n",
    "        review_count.append(business[entry]['review_count'])\n",
    "        categories.append(business[entry]['categories'])\n",
    "        latitude.append(business[entry]['latitude'])\n",
    "        longitude.append(business[entry]['longitude'])\n",
    "        is_open.append(business[entry]['is_open'])\n",
    "\n",
    "\n",
    "business = {'business_id ':business_id,'name':name,'city':city,'state':state,'stars':stars,'review_count':review_count,\n",
    "        'categories':categories,'latitude':latitude,'longitude':longitude,'is_open':is_open, 'postal_code':postal_code}\n",
    "\n",
    "business_df  = pd.DataFrame(business)\n",
    "\n",
    "# Overview of our Business Dataframe\n",
    "\n",
    "print(business_df.shape) # 209,393 rows of Data\n",
    "business_df.head()"
   ]
  },
  {
   "cell_type": "code",
   "execution_count": 5,
   "metadata": {
    "ExecuteTime": {
     "end_time": "2020-10-14T11:08:57.711785Z",
     "start_time": "2020-10-14T11:08:54.200209Z"
    }
   },
   "outputs": [
    {
     "name": "stdout",
     "output_type": "stream",
     "text": [
      "The number of unique business categories is: 873318\n"
     ]
    },
    {
     "data": {
      "text/plain": [
       "Restaurants                  63944\n",
       "Shopping                     34644\n",
       "Food                         32991\n",
       "Home Services                22487\n",
       "Beauty & Spas                20520\n",
       "Health & Medical             19227\n",
       "Local Services               15783\n",
       "Automotive                   14720\n",
       "Nightlife                    14211\n",
       "Bars                         12400\n",
       "Event Planning & Services    11263\n",
       "Active Life                  10225\n",
       "Coffee & Tea                  8415\n",
       "Fashion                       8374\n",
       "Fast Food                     8106\n",
       "Sandwiches                    8064\n",
       "American (Traditional)        7596\n",
       "Home & Garden                 7331\n",
       "Hair Salons                   7303\n",
       "Pizza                         7302\n",
       "Professional Services         6923\n",
       "Arts & Entertainment          6802\n",
       "Doctors                       6767\n",
       "Auto Repair                   6657\n",
       "Real Estate                   6435\n",
       "Name: categories, dtype: int64"
      ]
     },
     "execution_count": 5,
     "metadata": {},
     "output_type": "execute_result"
    }
   ],
   "source": [
    "# Overview of Business/Restaurant Categories\n",
    "\n",
    "business_categories = business_df.assign(categories = business_df.categories.str.split(', ')).explode('categories')\n",
    "\n",
    "print(str('The number of unique business categories is:'), len(business_categories))\n",
    "\n",
    "# Most Common Business Categories\n",
    "\n",
    "business_categories.categories.value_counts().head(25)"
   ]
  },
  {
   "cell_type": "markdown",
   "metadata": {},
   "source": [
    "For this Capstone Project, we are only focusing on Restaurant and F&B Businesses. As such, we will be restricting the categories that businesses can contain in our filtered dataset. Based on the above count plot, we will be restricting these broad categories to: `Restaurants`, `Fast Food`, `Breakfast & Brunch`, `Cafes`."
   ]
  },
  {
   "cell_type": "code",
   "execution_count": 6,
   "metadata": {
    "ExecuteTime": {
     "end_time": "2020-10-14T11:08:58.705759Z",
     "start_time": "2020-10-14T11:08:57.715225Z"
    }
   },
   "outputs": [
    {
     "data": {
      "text/html": [
       "<div>\n",
       "<style scoped>\n",
       "    .dataframe tbody tr th:only-of-type {\n",
       "        vertical-align: middle;\n",
       "    }\n",
       "\n",
       "    .dataframe tbody tr th {\n",
       "        vertical-align: top;\n",
       "    }\n",
       "\n",
       "    .dataframe thead th {\n",
       "        text-align: right;\n",
       "    }\n",
       "</style>\n",
       "<table border=\"1\" class=\"dataframe\">\n",
       "  <thead>\n",
       "    <tr style=\"text-align: right;\">\n",
       "      <th></th>\n",
       "      <th>business_id</th>\n",
       "      <th>name</th>\n",
       "      <th>city</th>\n",
       "      <th>state</th>\n",
       "      <th>stars</th>\n",
       "      <th>review_count</th>\n",
       "      <th>categories</th>\n",
       "      <th>latitude</th>\n",
       "      <th>longitude</th>\n",
       "      <th>is_open</th>\n",
       "      <th>postal_code</th>\n",
       "    </tr>\n",
       "  </thead>\n",
       "  <tbody>\n",
       "    <tr>\n",
       "      <th>8</th>\n",
       "      <td>pQeaRpvuhoEqudo3uymHIQ</td>\n",
       "      <td>The Empanadas House</td>\n",
       "      <td>Champaign</td>\n",
       "      <td>IL</td>\n",
       "      <td>4.5</td>\n",
       "      <td>5</td>\n",
       "      <td>Ethnic Food, Food Trucks, Specialty Food, Impo...</td>\n",
       "      <td>40.110446</td>\n",
       "      <td>-88.233073</td>\n",
       "      <td>1</td>\n",
       "      <td>61820</td>\n",
       "    </tr>\n",
       "    <tr>\n",
       "      <th>24</th>\n",
       "      <td>eBEfgOPG7pvFhb2wcG9I7w</td>\n",
       "      <td>Philthy Phillys</td>\n",
       "      <td>Aurora</td>\n",
       "      <td>ON</td>\n",
       "      <td>4.5</td>\n",
       "      <td>4</td>\n",
       "      <td>Restaurants, Cheesesteaks, Poutineries</td>\n",
       "      <td>44.010962</td>\n",
       "      <td>-79.448677</td>\n",
       "      <td>1</td>\n",
       "      <td>L4G 7J1</td>\n",
       "    </tr>\n",
       "    <tr>\n",
       "      <th>25</th>\n",
       "      <td>lu7vtrp_bE9PnxWfA8g4Pg</td>\n",
       "      <td>Banzai Sushi</td>\n",
       "      <td>Thornhill</td>\n",
       "      <td>ON</td>\n",
       "      <td>4.5</td>\n",
       "      <td>7</td>\n",
       "      <td>Japanese, Fast Food, Food Court, Restaurants</td>\n",
       "      <td>43.820492</td>\n",
       "      <td>-79.398466</td>\n",
       "      <td>1</td>\n",
       "      <td>L3T 5W4</td>\n",
       "    </tr>\n",
       "    <tr>\n",
       "      <th>30</th>\n",
       "      <td>9sRGfSVEfLhN_km60YruTA</td>\n",
       "      <td>Apadana Restaurant</td>\n",
       "      <td>Richmond Hill</td>\n",
       "      <td>ON</td>\n",
       "      <td>3.0</td>\n",
       "      <td>3</td>\n",
       "      <td>Persian/Iranian, Turkish, Middle Eastern, Rest...</td>\n",
       "      <td>43.947011</td>\n",
       "      <td>-79.454862</td>\n",
       "      <td>1</td>\n",
       "      <td>L4E 1A5</td>\n",
       "    </tr>\n",
       "    <tr>\n",
       "      <th>33</th>\n",
       "      <td>vjTVxnsQEZ34XjYNS-XUpA</td>\n",
       "      <td>Wetzel's Pretzels</td>\n",
       "      <td>Phoenix</td>\n",
       "      <td>AZ</td>\n",
       "      <td>4.0</td>\n",
       "      <td>10</td>\n",
       "      <td>Food, Pretzels, Bakeries, Fast Food, Restaurants</td>\n",
       "      <td>33.602822</td>\n",
       "      <td>-111.983533</td>\n",
       "      <td>1</td>\n",
       "      <td>85032</td>\n",
       "    </tr>\n",
       "  </tbody>\n",
       "</table>\n",
       "</div>"
      ],
      "text/plain": [
       "              business_id                  name           city state  stars  \\\n",
       "8   pQeaRpvuhoEqudo3uymHIQ  The Empanadas House      Champaign    IL    4.5   \n",
       "24  eBEfgOPG7pvFhb2wcG9I7w      Philthy Phillys         Aurora    ON    4.5   \n",
       "25  lu7vtrp_bE9PnxWfA8g4Pg         Banzai Sushi      Thornhill    ON    4.5   \n",
       "30  9sRGfSVEfLhN_km60YruTA   Apadana Restaurant  Richmond Hill    ON    3.0   \n",
       "33  vjTVxnsQEZ34XjYNS-XUpA    Wetzel's Pretzels        Phoenix    AZ    4.0   \n",
       "\n",
       "    review_count                                         categories  \\\n",
       "8              5  Ethnic Food, Food Trucks, Specialty Food, Impo...   \n",
       "24             4             Restaurants, Cheesesteaks, Poutineries   \n",
       "25             7       Japanese, Fast Food, Food Court, Restaurants   \n",
       "30             3  Persian/Iranian, Turkish, Middle Eastern, Rest...   \n",
       "33            10   Food, Pretzels, Bakeries, Fast Food, Restaurants   \n",
       "\n",
       "     latitude   longitude  is_open postal_code  \n",
       "8   40.110446  -88.233073        1       61820  \n",
       "24  44.010962  -79.448677        1     L4G 7J1  \n",
       "25  43.820492  -79.398466        1     L3T 5W4  \n",
       "30  43.947011  -79.454862        1     L4E 1A5  \n",
       "33  33.602822 -111.983533        1       85032  "
      ]
     },
     "execution_count": 6,
     "metadata": {},
     "output_type": "execute_result"
    }
   ],
   "source": [
    "# Filtering for Restaurant Food Businesses\n",
    "\n",
    "business_food = business_df[business_df['categories'].str.contains('Restaurants|Fast Food|Breakfast & Brunch|Cafes',\n",
    "                case=False, na=False)]\n",
    "\n",
    "# Filtering only for Restaurants that are still open for business, open = 1, closed = 0\n",
    "\n",
    "business_food = business_food[business_food['is_open']==1]\n",
    "business_food.head()"
   ]
  },
  {
   "cell_type": "code",
   "execution_count": 7,
   "metadata": {
    "ExecuteTime": {
     "end_time": "2020-10-14T11:08:58.719743Z",
     "start_time": "2020-10-14T11:08:58.710535Z"
    }
   },
   "outputs": [
    {
     "data": {
      "text/plain": [
       "(44023, 11)"
      ]
     },
     "execution_count": 7,
     "metadata": {},
     "output_type": "execute_result"
    }
   ],
   "source": [
    "# Checking how many rows of data we have left: 44,023 rows of Data (Restaurant/Food Businesses)\n",
    "\n",
    "business_food.shape"
   ]
  },
  {
   "cell_type": "markdown",
   "metadata": {},
   "source": [
    "### Deciding which City to Focus on"
   ]
  },
  {
   "cell_type": "code",
   "execution_count": 8,
   "metadata": {
    "ExecuteTime": {
     "end_time": "2020-10-14T11:08:58.757554Z",
     "start_time": "2020-10-14T11:08:58.726774Z"
    }
   },
   "outputs": [
    {
     "data": {
      "text/plain": [
       "ON    11100\n",
       "AZ     7889\n",
       "NV     5321\n",
       "QC     4680\n",
       "OH     4350\n",
       "NC     3319\n",
       "PA     3013\n",
       "AB     2376\n",
       "WI     1185\n",
       "IL      461\n",
       "Name: state, dtype: int64"
      ]
     },
     "execution_count": 8,
     "metadata": {},
     "output_type": "execute_result"
    }
   ],
   "source": [
    "# Top States that have the most number of Restaurant Businesses in this dataset\n",
    "\n",
    "top_states = business_food['state'].value_counts().head(10)\n",
    "top_states"
   ]
  },
  {
   "cell_type": "markdown",
   "metadata": {},
   "source": [
    "The State of Ontario **(ON)** in Canada has the most number of Restaurant Businesses in this dataset."
   ]
  },
  {
   "cell_type": "code",
   "execution_count": 9,
   "metadata": {
    "ExecuteTime": {
     "end_time": "2020-10-14T11:08:58.824928Z",
     "start_time": "2020-10-14T11:08:58.763118Z"
    }
   },
   "outputs": [
    {
     "data": {
      "text/plain": [
       "Toronto        5472\n",
       "Las Vegas      4386\n",
       "Montréal       2886\n",
       "Phoenix        2773\n",
       "Calgary        2275\n",
       "Charlotte      2034\n",
       "Pittsburgh     1750\n",
       "Mississauga    1253\n",
       "Cleveland      1075\n",
       "Scottsdale      949\n",
       "Mesa            849\n",
       "Madison         741\n",
       "Tempe           661\n",
       "Markham         612\n",
       "Henderson       604\n",
       "Chandler        566\n",
       "Glendale        524\n",
       "Brampton        500\n",
       "Gilbert         427\n",
       "Scarborough     413\n",
       "Name: city, dtype: int64"
      ]
     },
     "execution_count": 9,
     "metadata": {},
     "output_type": "execute_result"
    }
   ],
   "source": [
    "# Top Cities that have the most number of Restaurant Businesses in this dataset\n",
    "\n",
    "top_cities = business_food['city'].value_counts().head(20)\n",
    "top_cities"
   ]
  },
  {
   "cell_type": "markdown",
   "metadata": {},
   "source": [
    "The City of **Toronto** has the most number of Restaurant Businesses in this dataset."
   ]
  },
  {
   "cell_type": "markdown",
   "metadata": {},
   "source": [
    "For this Capstone Project, I've decided to focus on the Canadian City of Toronto, as the main goal is to produce a **Recommendation System for Food Restaurants**. Focusing on multiple cities or states in our recommendation systems could potentially complicate things as people would not want to travel to different cities just to try new restaurants."
   ]
  },
  {
   "cell_type": "code",
   "execution_count": 10,
   "metadata": {
    "ExecuteTime": {
     "end_time": "2020-10-14T11:08:58.859314Z",
     "start_time": "2020-10-14T11:08:58.827577Z"
    }
   },
   "outputs": [
    {
     "data": {
      "text/plain": [
       "Toronto          5471\n",
       "Mississauga      1253\n",
       "Markham           611\n",
       "Brampton          500\n",
       "Scarborough       413\n",
       "Vaughan           400\n",
       "Richmond Hill     356\n",
       "North York        347\n",
       "Etobicoke         255\n",
       "Newmarket         165\n",
       "Oakville          149\n",
       "Ajax              145\n",
       "Pickering         141\n",
       "Whitby            134\n",
       "Thornhill         127\n",
       "Aurora            106\n",
       "Woodbridge         79\n",
       "York               45\n",
       "Concord            35\n",
       "East York          34\n",
       "Name: city, dtype: int64"
      ]
     },
     "execution_count": 10,
     "metadata": {},
     "output_type": "execute_result"
    }
   ],
   "source": [
    "# Keeping the Canadian State of Ontario\n",
    "\n",
    "states_to_keep = ['ON']\n",
    "business_food = business_food[business_food.state.isin(states_to_keep)]\n",
    "\n",
    "# Overview of Canadian Cities in these 3 States that have the most number of Restaurant Businesses in this dataset\n",
    "\n",
    "business_food['city'].value_counts().head(20)"
   ]
  },
  {
   "cell_type": "code",
   "execution_count": 11,
   "metadata": {
    "ExecuteTime": {
     "end_time": "2020-10-14T11:08:58.881475Z",
     "start_time": "2020-10-14T11:08:58.863697Z"
    }
   },
   "outputs": [
    {
     "data": {
      "text/plain": [
       "(11100, 11)"
      ]
     },
     "execution_count": 11,
     "metadata": {},
     "output_type": "execute_result"
    }
   ],
   "source": [
    "# Checking how many rows of data we have left: 11,100 rows of Data (Restaurant/Food Businesses)\n",
    "\n",
    "business_food.shape"
   ]
  },
  {
   "cell_type": "code",
   "execution_count": 12,
   "metadata": {
    "ExecuteTime": {
     "end_time": "2020-10-14T11:08:58.917100Z",
     "start_time": "2020-10-14T11:08:58.890646Z"
    }
   },
   "outputs": [
    {
     "data": {
      "text/plain": [
       "business_id     0\n",
       "name            0\n",
       "city            0\n",
       "state           0\n",
       "stars           0\n",
       "review_count    0\n",
       "categories      0\n",
       "latitude        0\n",
       "longitude       0\n",
       "is_open         0\n",
       "postal_code     0\n",
       "dtype: int64"
      ]
     },
     "execution_count": 12,
     "metadata": {},
     "output_type": "execute_result"
    }
   ],
   "source": [
    "# Check for null values\n",
    "\n",
    "business_food.isnull().sum()"
   ]
  },
  {
   "cell_type": "markdown",
   "metadata": {},
   "source": [
    "For our initial `business_food` dataset, we have **11,100 rows of business data** for **11,100 respective Restaurant/Food Businesses** in the city of `Toronto`."
   ]
  },
  {
   "cell_type": "markdown",
   "metadata": {},
   "source": [
    "### Review File"
   ]
  },
  {
   "cell_type": "code",
   "execution_count": 13,
   "metadata": {
    "ExecuteTime": {
     "end_time": "2020-10-14T11:11:17.543978Z",
     "start_time": "2020-10-14T11:08:58.929255Z"
    }
   },
   "outputs": [
    {
     "data": {
      "text/plain": [
       "8021122"
      ]
     },
     "execution_count": 13,
     "metadata": {},
     "output_type": "execute_result"
    }
   ],
   "source": [
    "# Importing Review JSON File\n",
    "\n",
    "reviews = []\n",
    "\n",
    "with open('Data/Kaggle/yelp_academic_dataset_review.json') as f:\n",
    "    for line in f:\n",
    "        reviews.append(json.loads(line))\n",
    "\n",
    "# Length of rows of Data        \n",
    "\n",
    "len(reviews)  # 8,021,122 reviews"
   ]
  },
  {
   "cell_type": "code",
   "execution_count": 14,
   "metadata": {
    "ExecuteTime": {
     "end_time": "2020-10-14T11:11:17.638579Z",
     "start_time": "2020-10-14T11:11:17.585700Z"
    }
   },
   "outputs": [
    {
     "data": {
      "text/plain": [
       "{'review_id': 'xQY8N_XvtGbearJ5X4QryQ',\n",
       " 'user_id': 'OwjRMXRC0KyPrIlcjaXeFQ',\n",
       " 'business_id': '-MhfebM0QIsKt87iDN-FNw',\n",
       " 'stars': 2.0,\n",
       " 'useful': 5,\n",
       " 'funny': 0,\n",
       " 'cool': 0,\n",
       " 'text': 'As someone who has worked with many museums, I was eager to visit this gallery on my most recent trip to Las Vegas. When I saw they would be showing infamous eggs of the House of Faberge from the Virginia Museum of Fine Arts (VMFA), I knew I had to go!\\n\\nTucked away near the gelateria and the garden, the Gallery is pretty much hidden from view. It\\'s what real estate agents would call \"cozy\" or \"charming\" - basically any euphemism for small.\\n\\nThat being said, you can still see wonderful art at a gallery of any size, so why the two *s you ask? Let me tell you:\\n\\n* pricing for this, while relatively inexpensive for a Las Vegas attraction, is completely over the top. For the space and the amount of art you can fit in there, it is a bit much.\\n* it\\'s not kid friendly at all. Seriously, don\\'t bring them.\\n* the security is not trained properly for the show. When the curating and design teams collaborate for exhibitions, there is a definite flow. That means visitors should view the art in a certain sequence, whether it be by historical period or cultural significance (this is how audio guides are usually developed). When I arrived in the gallery I could not tell where to start, and security was certainly not helpful. I was told to \"just look around\" and \"do whatever.\" \\n\\nAt such a *fine* institution, I find the lack of knowledge and respect for the art appalling.',\n",
       " 'date': '2015-04-15 05:21:16'}"
      ]
     },
     "execution_count": 14,
     "metadata": {},
     "output_type": "execute_result"
    }
   ],
   "source": [
    "# Overview of columns of each entry of the Review file\n",
    "\n",
    "reviews[0]"
   ]
  },
  {
   "cell_type": "markdown",
   "metadata": {},
   "source": [
    "Now that we know the column names of this file, we now can proceed to create our dataframe for this file."
   ]
  },
  {
   "cell_type": "code",
   "execution_count": 15,
   "metadata": {
    "ExecuteTime": {
     "end_time": "2020-10-14T11:27:44.305174Z",
     "start_time": "2020-10-14T11:11:17.663402Z"
    }
   },
   "outputs": [
    {
     "name": "stdout",
     "output_type": "stream",
     "text": [
      "(8021122, 9)\n"
     ]
    },
    {
     "data": {
      "text/html": [
       "<div>\n",
       "<style scoped>\n",
       "    .dataframe tbody tr th:only-of-type {\n",
       "        vertical-align: middle;\n",
       "    }\n",
       "\n",
       "    .dataframe tbody tr th {\n",
       "        vertical-align: top;\n",
       "    }\n",
       "\n",
       "    .dataframe thead th {\n",
       "        text-align: right;\n",
       "    }\n",
       "</style>\n",
       "<table border=\"1\" class=\"dataframe\">\n",
       "  <thead>\n",
       "    <tr style=\"text-align: right;\">\n",
       "      <th></th>\n",
       "      <th>review_id</th>\n",
       "      <th>business_id</th>\n",
       "      <th>user_id</th>\n",
       "      <th>stars</th>\n",
       "      <th>useful</th>\n",
       "      <th>funny</th>\n",
       "      <th>cool</th>\n",
       "      <th>text</th>\n",
       "      <th>date</th>\n",
       "    </tr>\n",
       "  </thead>\n",
       "  <tbody>\n",
       "    <tr>\n",
       "      <th>0</th>\n",
       "      <td>xQY8N_XvtGbearJ5X4QryQ</td>\n",
       "      <td>-MhfebM0QIsKt87iDN-FNw</td>\n",
       "      <td>OwjRMXRC0KyPrIlcjaXeFQ</td>\n",
       "      <td>2.0</td>\n",
       "      <td>5</td>\n",
       "      <td>0</td>\n",
       "      <td>0</td>\n",
       "      <td>As someone who has worked with many museums, I...</td>\n",
       "      <td>2015-04-15 05:21:16</td>\n",
       "    </tr>\n",
       "    <tr>\n",
       "      <th>1</th>\n",
       "      <td>UmFMZ8PyXZTY2QcwzsfQYA</td>\n",
       "      <td>lbrU8StCq3yDfr-QMnGrmQ</td>\n",
       "      <td>nIJD_7ZXHq-FX8byPMOkMQ</td>\n",
       "      <td>1.0</td>\n",
       "      <td>1</td>\n",
       "      <td>1</td>\n",
       "      <td>0</td>\n",
       "      <td>I am actually horrified this place is still in...</td>\n",
       "      <td>2013-12-07 03:16:52</td>\n",
       "    </tr>\n",
       "    <tr>\n",
       "      <th>2</th>\n",
       "      <td>LG2ZaYiOgpr2DK_90pYjNw</td>\n",
       "      <td>HQl28KMwrEKHqhFrrDqVNQ</td>\n",
       "      <td>V34qejxNsCbcgD8C0HVk-Q</td>\n",
       "      <td>5.0</td>\n",
       "      <td>1</td>\n",
       "      <td>0</td>\n",
       "      <td>0</td>\n",
       "      <td>I love Deagan's. I do. I really do. The atmosp...</td>\n",
       "      <td>2015-12-05 03:18:11</td>\n",
       "    </tr>\n",
       "    <tr>\n",
       "      <th>3</th>\n",
       "      <td>i6g_oA9Yf9Y31qt0wibXpw</td>\n",
       "      <td>5JxlZaqCnk1MnbgRirs40Q</td>\n",
       "      <td>ofKDkJKXSKZXu5xJNGiiBQ</td>\n",
       "      <td>1.0</td>\n",
       "      <td>0</td>\n",
       "      <td>0</td>\n",
       "      <td>0</td>\n",
       "      <td>Dismal, lukewarm, defrosted-tasting \"TexMex\" g...</td>\n",
       "      <td>2011-05-27 05:30:52</td>\n",
       "    </tr>\n",
       "    <tr>\n",
       "      <th>4</th>\n",
       "      <td>6TdNDKywdbjoTkizeMce8A</td>\n",
       "      <td>IS4cv902ykd8wj1TR0N3-A</td>\n",
       "      <td>UgMW8bLE0QMJDCkQ1Ax5Mg</td>\n",
       "      <td>4.0</td>\n",
       "      <td>0</td>\n",
       "      <td>0</td>\n",
       "      <td>0</td>\n",
       "      <td>Oh happy day, finally have a Canes near my cas...</td>\n",
       "      <td>2017-01-14 21:56:57</td>\n",
       "    </tr>\n",
       "  </tbody>\n",
       "</table>\n",
       "</div>"
      ],
      "text/plain": [
       "                review_id             business_id                 user_id  \\\n",
       "0  xQY8N_XvtGbearJ5X4QryQ  -MhfebM0QIsKt87iDN-FNw  OwjRMXRC0KyPrIlcjaXeFQ   \n",
       "1  UmFMZ8PyXZTY2QcwzsfQYA  lbrU8StCq3yDfr-QMnGrmQ  nIJD_7ZXHq-FX8byPMOkMQ   \n",
       "2  LG2ZaYiOgpr2DK_90pYjNw  HQl28KMwrEKHqhFrrDqVNQ  V34qejxNsCbcgD8C0HVk-Q   \n",
       "3  i6g_oA9Yf9Y31qt0wibXpw  5JxlZaqCnk1MnbgRirs40Q  ofKDkJKXSKZXu5xJNGiiBQ   \n",
       "4  6TdNDKywdbjoTkizeMce8A  IS4cv902ykd8wj1TR0N3-A  UgMW8bLE0QMJDCkQ1Ax5Mg   \n",
       "\n",
       "   stars  useful  funny  cool  \\\n",
       "0    2.0       5      0     0   \n",
       "1    1.0       1      1     0   \n",
       "2    5.0       1      0     0   \n",
       "3    1.0       0      0     0   \n",
       "4    4.0       0      0     0   \n",
       "\n",
       "                                                text                 date  \n",
       "0  As someone who has worked with many museums, I...  2015-04-15 05:21:16  \n",
       "1  I am actually horrified this place is still in...  2013-12-07 03:16:52  \n",
       "2  I love Deagan's. I do. I really do. The atmosp...  2015-12-05 03:18:11  \n",
       "3  Dismal, lukewarm, defrosted-tasting \"TexMex\" g...  2011-05-27 05:30:52  \n",
       "4  Oh happy day, finally have a Canes near my cas...  2017-01-14 21:56:57  "
      ]
     },
     "execution_count": 15,
     "metadata": {},
     "output_type": "execute_result"
    }
   ],
   "source": [
    "## Creating Dataframe for review json file\n",
    "\n",
    "# Creating Columns for Dataframe\n",
    "\n",
    "reviewid = []\n",
    "businessid= []\n",
    "userid = []\n",
    "stars = []\n",
    "useful = []\n",
    "funny = []\n",
    "cool = []\n",
    "text = []\n",
    "date = []\n",
    "\n",
    "# Iterating through each row of the json file\n",
    "\n",
    "for entry in range(0, len(reviews)):     \n",
    "    reviewid.append(reviews[entry]['review_id'])\n",
    "    businessid.append(reviews[entry]['business_id'])\n",
    "    userid.append(reviews[entry]['user_id'])\n",
    "    stars.append(reviews[entry]['stars'])\n",
    "    text.append(reviews[entry]['text'])\n",
    "    date.append(reviews[entry]['date'])\n",
    "    useful.append(reviews[entry]['useful'])\n",
    "    funny.append(reviews[entry]['funny'])\n",
    "    cool.append(reviews[entry]['cool'])\n",
    "    \n",
    "reviews = {'review_id':reviewid,'business_id':businessid,'user_id':userid,'stars':stars,'useful':useful,'funny':funny,\n",
    "           'cool':cool,'text':text,'date':date}\n",
    "\n",
    "reviews_df  = pd.DataFrame(reviews)\n",
    "\n",
    "# Overview of our Review Dataframe\n",
    "\n",
    "print(reviews_df.shape)\n",
    "reviews_df.head()"
   ]
  },
  {
   "cell_type": "code",
   "execution_count": 16,
   "metadata": {
    "ExecuteTime": {
     "end_time": "2020-10-14T11:29:59.464243Z",
     "start_time": "2020-10-14T11:27:44.327168Z"
    }
   },
   "outputs": [
    {
     "data": {
      "text/html": [
       "<div>\n",
       "<style scoped>\n",
       "    .dataframe tbody tr th:only-of-type {\n",
       "        vertical-align: middle;\n",
       "    }\n",
       "\n",
       "    .dataframe tbody tr th {\n",
       "        vertical-align: top;\n",
       "    }\n",
       "\n",
       "    .dataframe thead th {\n",
       "        text-align: right;\n",
       "    }\n",
       "</style>\n",
       "<table border=\"1\" class=\"dataframe\">\n",
       "  <thead>\n",
       "    <tr style=\"text-align: right;\">\n",
       "      <th></th>\n",
       "      <th>review_id</th>\n",
       "      <th>business_id</th>\n",
       "      <th>user_id</th>\n",
       "      <th>stars</th>\n",
       "      <th>useful</th>\n",
       "      <th>funny</th>\n",
       "      <th>cool</th>\n",
       "      <th>text</th>\n",
       "      <th>date</th>\n",
       "      <th>year</th>\n",
       "      <th>month</th>\n",
       "      <th>time</th>\n",
       "    </tr>\n",
       "  </thead>\n",
       "  <tbody>\n",
       "    <tr>\n",
       "      <th>0</th>\n",
       "      <td>xQY8N_XvtGbearJ5X4QryQ</td>\n",
       "      <td>-MhfebM0QIsKt87iDN-FNw</td>\n",
       "      <td>OwjRMXRC0KyPrIlcjaXeFQ</td>\n",
       "      <td>2.0</td>\n",
       "      <td>5</td>\n",
       "      <td>0</td>\n",
       "      <td>0</td>\n",
       "      <td>As someone who has worked with many museums, I...</td>\n",
       "      <td>2015-04-15 05:21:16</td>\n",
       "      <td>2015</td>\n",
       "      <td>04</td>\n",
       "      <td>05:21:16</td>\n",
       "    </tr>\n",
       "    <tr>\n",
       "      <th>1</th>\n",
       "      <td>UmFMZ8PyXZTY2QcwzsfQYA</td>\n",
       "      <td>lbrU8StCq3yDfr-QMnGrmQ</td>\n",
       "      <td>nIJD_7ZXHq-FX8byPMOkMQ</td>\n",
       "      <td>1.0</td>\n",
       "      <td>1</td>\n",
       "      <td>1</td>\n",
       "      <td>0</td>\n",
       "      <td>I am actually horrified this place is still in...</td>\n",
       "      <td>2013-12-07 03:16:52</td>\n",
       "      <td>2013</td>\n",
       "      <td>12</td>\n",
       "      <td>03:16:52</td>\n",
       "    </tr>\n",
       "    <tr>\n",
       "      <th>2</th>\n",
       "      <td>LG2ZaYiOgpr2DK_90pYjNw</td>\n",
       "      <td>HQl28KMwrEKHqhFrrDqVNQ</td>\n",
       "      <td>V34qejxNsCbcgD8C0HVk-Q</td>\n",
       "      <td>5.0</td>\n",
       "      <td>1</td>\n",
       "      <td>0</td>\n",
       "      <td>0</td>\n",
       "      <td>I love Deagan's. I do. I really do. The atmosp...</td>\n",
       "      <td>2015-12-05 03:18:11</td>\n",
       "      <td>2015</td>\n",
       "      <td>12</td>\n",
       "      <td>03:18:11</td>\n",
       "    </tr>\n",
       "    <tr>\n",
       "      <th>3</th>\n",
       "      <td>i6g_oA9Yf9Y31qt0wibXpw</td>\n",
       "      <td>5JxlZaqCnk1MnbgRirs40Q</td>\n",
       "      <td>ofKDkJKXSKZXu5xJNGiiBQ</td>\n",
       "      <td>1.0</td>\n",
       "      <td>0</td>\n",
       "      <td>0</td>\n",
       "      <td>0</td>\n",
       "      <td>Dismal, lukewarm, defrosted-tasting \"TexMex\" g...</td>\n",
       "      <td>2011-05-27 05:30:52</td>\n",
       "      <td>2011</td>\n",
       "      <td>05</td>\n",
       "      <td>05:30:52</td>\n",
       "    </tr>\n",
       "    <tr>\n",
       "      <th>4</th>\n",
       "      <td>6TdNDKywdbjoTkizeMce8A</td>\n",
       "      <td>IS4cv902ykd8wj1TR0N3-A</td>\n",
       "      <td>UgMW8bLE0QMJDCkQ1Ax5Mg</td>\n",
       "      <td>4.0</td>\n",
       "      <td>0</td>\n",
       "      <td>0</td>\n",
       "      <td>0</td>\n",
       "      <td>Oh happy day, finally have a Canes near my cas...</td>\n",
       "      <td>2017-01-14 21:56:57</td>\n",
       "      <td>2017</td>\n",
       "      <td>01</td>\n",
       "      <td>21:56:57</td>\n",
       "    </tr>\n",
       "  </tbody>\n",
       "</table>\n",
       "</div>"
      ],
      "text/plain": [
       "                review_id             business_id                 user_id  \\\n",
       "0  xQY8N_XvtGbearJ5X4QryQ  -MhfebM0QIsKt87iDN-FNw  OwjRMXRC0KyPrIlcjaXeFQ   \n",
       "1  UmFMZ8PyXZTY2QcwzsfQYA  lbrU8StCq3yDfr-QMnGrmQ  nIJD_7ZXHq-FX8byPMOkMQ   \n",
       "2  LG2ZaYiOgpr2DK_90pYjNw  HQl28KMwrEKHqhFrrDqVNQ  V34qejxNsCbcgD8C0HVk-Q   \n",
       "3  i6g_oA9Yf9Y31qt0wibXpw  5JxlZaqCnk1MnbgRirs40Q  ofKDkJKXSKZXu5xJNGiiBQ   \n",
       "4  6TdNDKywdbjoTkizeMce8A  IS4cv902ykd8wj1TR0N3-A  UgMW8bLE0QMJDCkQ1Ax5Mg   \n",
       "\n",
       "   stars  useful  funny  cool  \\\n",
       "0    2.0       5      0     0   \n",
       "1    1.0       1      1     0   \n",
       "2    5.0       1      0     0   \n",
       "3    1.0       0      0     0   \n",
       "4    4.0       0      0     0   \n",
       "\n",
       "                                                text                 date  \\\n",
       "0  As someone who has worked with many museums, I...  2015-04-15 05:21:16   \n",
       "1  I am actually horrified this place is still in...  2013-12-07 03:16:52   \n",
       "2  I love Deagan's. I do. I really do. The atmosp...  2015-12-05 03:18:11   \n",
       "3  Dismal, lukewarm, defrosted-tasting \"TexMex\" g...  2011-05-27 05:30:52   \n",
       "4  Oh happy day, finally have a Canes near my cas...  2017-01-14 21:56:57   \n",
       "\n",
       "   year month      time  \n",
       "0  2015    04  05:21:16  \n",
       "1  2013    12  03:16:52  \n",
       "2  2015    12  03:18:11  \n",
       "3  2011    05  05:30:52  \n",
       "4  2017    01  21:56:57  "
      ]
     },
     "execution_count": 16,
     "metadata": {},
     "output_type": "execute_result"
    }
   ],
   "source": [
    "# Splitting Date Column into Year, Month and Time Columns\n",
    "\n",
    "def create_yr(x): \n",
    "    return x.split('-')[0] \n",
    "\n",
    "def create_mth(x): \n",
    "    return x.split('-')[1] \n",
    "\n",
    "def create_time(x):\n",
    "    return x.split(' ')[1]\n",
    "\n",
    "reviews_df['year'] = reviews_df.date.apply(create_yr)\n",
    "reviews_df['month'] = reviews_df.date.apply(create_mth)\n",
    "reviews_df['time'] = reviews_df.date.apply(create_time)\n",
    "\n",
    "# Overview of new df with 3 new columns\n",
    "\n",
    "reviews_df.head()"
   ]
  },
  {
   "cell_type": "code",
   "execution_count": 17,
   "metadata": {
    "ExecuteTime": {
     "end_time": "2020-10-14T11:29:59.485284Z",
     "start_time": "2020-10-14T11:29:59.474767Z"
    }
   },
   "outputs": [
    {
     "data": {
      "text/plain": [
       "(8021122, 12)"
      ]
     },
     "execution_count": 17,
     "metadata": {},
     "output_type": "execute_result"
    }
   ],
   "source": [
    "# Checking how many rows of data we have: 8,021,122 rows of Data\n",
    "\n",
    "reviews_df.shape"
   ]
  },
  {
   "cell_type": "markdown",
   "metadata": {},
   "source": [
    "### Filtered Reviews Dataset in Toronto"
   ]
  },
  {
   "cell_type": "code",
   "execution_count": 18,
   "metadata": {
    "ExecuteTime": {
     "end_time": "2020-10-14T11:37:20.777243Z",
     "start_time": "2020-10-14T11:29:59.489972Z"
    }
   },
   "outputs": [
    {
     "name": "stdout",
     "output_type": "stream",
     "text": [
      "(537557, 11)\n"
     ]
    },
    {
     "data": {
      "text/html": [
       "<div>\n",
       "<style scoped>\n",
       "    .dataframe tbody tr th:only-of-type {\n",
       "        vertical-align: middle;\n",
       "    }\n",
       "\n",
       "    .dataframe tbody tr th {\n",
       "        vertical-align: top;\n",
       "    }\n",
       "\n",
       "    .dataframe thead th {\n",
       "        text-align: right;\n",
       "    }\n",
       "</style>\n",
       "<table border=\"1\" class=\"dataframe\">\n",
       "  <thead>\n",
       "    <tr style=\"text-align: right;\">\n",
       "      <th></th>\n",
       "      <th>business_id</th>\n",
       "      <th>user_id</th>\n",
       "      <th>stars</th>\n",
       "      <th>useful</th>\n",
       "      <th>funny</th>\n",
       "      <th>cool</th>\n",
       "      <th>text</th>\n",
       "      <th>date</th>\n",
       "      <th>year</th>\n",
       "      <th>month</th>\n",
       "      <th>time</th>\n",
       "    </tr>\n",
       "  </thead>\n",
       "  <tbody>\n",
       "    <tr>\n",
       "      <th>0</th>\n",
       "      <td>l-nL4BmhzpZjcavooO48PQ</td>\n",
       "      <td>HJECayULRM-6xh2GCCvLiA</td>\n",
       "      <td>4.0</td>\n",
       "      <td>2</td>\n",
       "      <td>1</td>\n",
       "      <td>1</td>\n",
       "      <td>ORDER In (Delivery) Review\\n\\nI discovered thi...</td>\n",
       "      <td>2015-10-17 01:38:13</td>\n",
       "      <td>2015</td>\n",
       "      <td>10</td>\n",
       "      <td>01:38:13</td>\n",
       "    </tr>\n",
       "    <tr>\n",
       "      <th>1</th>\n",
       "      <td>qUWqjjjfpB2-4P3He5rsKw</td>\n",
       "      <td>TZQSUDDcA4ek5gBd6BzcjA</td>\n",
       "      <td>4.0</td>\n",
       "      <td>0</td>\n",
       "      <td>0</td>\n",
       "      <td>0</td>\n",
       "      <td>In the heart of Chinatown, I discovered it enr...</td>\n",
       "      <td>2017-06-06 19:04:10</td>\n",
       "      <td>2017</td>\n",
       "      <td>06</td>\n",
       "      <td>19:04:10</td>\n",
       "    </tr>\n",
       "    <tr>\n",
       "      <th>2</th>\n",
       "      <td>YJ2Y_asLIlbo-uijVugLow</td>\n",
       "      <td>Arf9ddxVvO3PsmdZlPBDyA</td>\n",
       "      <td>5.0</td>\n",
       "      <td>0</td>\n",
       "      <td>0</td>\n",
       "      <td>2</td>\n",
       "      <td>As a spicy food fan, when I see a restaurant c...</td>\n",
       "      <td>2015-06-08 18:24:07</td>\n",
       "      <td>2015</td>\n",
       "      <td>06</td>\n",
       "      <td>18:24:07</td>\n",
       "    </tr>\n",
       "    <tr>\n",
       "      <th>3</th>\n",
       "      <td>9Eghhu_LzEJgDKNgisf3rg</td>\n",
       "      <td>iFEM16O5BeKvf_AHs6NzUQ</td>\n",
       "      <td>3.0</td>\n",
       "      <td>0</td>\n",
       "      <td>0</td>\n",
       "      <td>0</td>\n",
       "      <td>Was super excited to bring my boyfriend to thi...</td>\n",
       "      <td>2016-08-25 16:25:12</td>\n",
       "      <td>2016</td>\n",
       "      <td>08</td>\n",
       "      <td>16:25:12</td>\n",
       "    </tr>\n",
       "    <tr>\n",
       "      <th>4</th>\n",
       "      <td>eNFubUPJR7yIQah-NxZN_g</td>\n",
       "      <td>lMIm1Ye7BeVE21xqlImqEw</td>\n",
       "      <td>2.0</td>\n",
       "      <td>0</td>\n",
       "      <td>0</td>\n",
       "      <td>0</td>\n",
       "      <td>Decent food. Fishermen lobster or even congee ...</td>\n",
       "      <td>2017-05-26 01:20:43</td>\n",
       "      <td>2017</td>\n",
       "      <td>05</td>\n",
       "      <td>01:20:43</td>\n",
       "    </tr>\n",
       "  </tbody>\n",
       "</table>\n",
       "</div>"
      ],
      "text/plain": [
       "              business_id                 user_id  stars  useful  funny  cool  \\\n",
       "0  l-nL4BmhzpZjcavooO48PQ  HJECayULRM-6xh2GCCvLiA    4.0       2      1     1   \n",
       "1  qUWqjjjfpB2-4P3He5rsKw  TZQSUDDcA4ek5gBd6BzcjA    4.0       0      0     0   \n",
       "2  YJ2Y_asLIlbo-uijVugLow  Arf9ddxVvO3PsmdZlPBDyA    5.0       0      0     2   \n",
       "3  9Eghhu_LzEJgDKNgisf3rg  iFEM16O5BeKvf_AHs6NzUQ    3.0       0      0     0   \n",
       "4  eNFubUPJR7yIQah-NxZN_g  lMIm1Ye7BeVE21xqlImqEw    2.0       0      0     0   \n",
       "\n",
       "                                                text                 date  \\\n",
       "0  ORDER In (Delivery) Review\\n\\nI discovered thi...  2015-10-17 01:38:13   \n",
       "1  In the heart of Chinatown, I discovered it enr...  2017-06-06 19:04:10   \n",
       "2  As a spicy food fan, when I see a restaurant c...  2015-06-08 18:24:07   \n",
       "3  Was super excited to bring my boyfriend to thi...  2016-08-25 16:25:12   \n",
       "4  Decent food. Fishermen lobster or even congee ...  2017-05-26 01:20:43   \n",
       "\n",
       "   year month      time  \n",
       "0  2015    10  01:38:13  \n",
       "1  2017    06  19:04:10  \n",
       "2  2015    06  18:24:07  \n",
       "3  2016    08  16:25:12  \n",
       "4  2017    05  01:20:43  "
      ]
     },
     "execution_count": 18,
     "metadata": {},
     "output_type": "execute_result"
    }
   ],
   "source": [
    "## Combining Business and Reviews Datasets\n",
    "# Creating a new column for each business's unique ids\n",
    "\n",
    "business_food['key'] = business_food.iloc[:,0]\n",
    "\n",
    "# Keeping only the reviews for the restaurants in our selected dataset\n",
    "\n",
    "restaurant_reviews = reviews_df[reviews_df['business_id'].isin(business_food['key'])]\n",
    "restaurant_reviews = restaurant_reviews.reset_index().iloc[:,2:]\n",
    "print(restaurant_reviews.shape)\n",
    "restaurant_reviews.head()"
   ]
  },
  {
   "cell_type": "code",
   "execution_count": 19,
   "metadata": {
    "ExecuteTime": {
     "end_time": "2020-10-14T11:37:20.825323Z",
     "start_time": "2020-10-14T11:37:20.805231Z"
    }
   },
   "outputs": [
    {
     "data": {
      "text/plain": [
       "(537557, 11)"
      ]
     },
     "execution_count": 19,
     "metadata": {},
     "output_type": "execute_result"
    }
   ],
   "source": [
    "# Total of 537,557 Rows of Reviews for the selected Restaurant Businesses\n",
    "\n",
    "restaurant_reviews.shape"
   ]
  },
  {
   "cell_type": "code",
   "execution_count": 20,
   "metadata": {
    "ExecuteTime": {
     "end_time": "2020-10-14T11:37:26.055250Z",
     "start_time": "2020-10-14T11:37:20.830291Z"
    }
   },
   "outputs": [
    {
     "data": {
      "text/plain": [
       "121795"
      ]
     },
     "execution_count": 20,
     "metadata": {},
     "output_type": "execute_result"
    }
   ],
   "source": [
    "# Number of Unique Users in this Reviews Dataset\n",
    "\n",
    "n_users = len(restaurant_reviews.user_id.unique())\n",
    "n_users #121,795 unique users in this review set"
   ]
  },
  {
   "cell_type": "code",
   "execution_count": 21,
   "metadata": {
    "ExecuteTime": {
     "end_time": "2020-10-14T11:45:25.097770Z",
     "start_time": "2020-10-14T11:37:26.063437Z"
    }
   },
   "outputs": [
    {
     "data": {
      "text/html": [
       "<div>\n",
       "<style scoped>\n",
       "    .dataframe tbody tr th:only-of-type {\n",
       "        vertical-align: middle;\n",
       "    }\n",
       "\n",
       "    .dataframe tbody tr th {\n",
       "        vertical-align: top;\n",
       "    }\n",
       "\n",
       "    .dataframe thead th {\n",
       "        text-align: right;\n",
       "    }\n",
       "</style>\n",
       "<table border=\"1\" class=\"dataframe\">\n",
       "  <thead>\n",
       "    <tr style=\"text-align: right;\">\n",
       "      <th></th>\n",
       "      <th>business_id</th>\n",
       "      <th>user_id</th>\n",
       "      <th>stars</th>\n",
       "      <th>useful</th>\n",
       "      <th>funny</th>\n",
       "      <th>cool</th>\n",
       "      <th>text</th>\n",
       "      <th>date</th>\n",
       "      <th>year</th>\n",
       "      <th>month</th>\n",
       "      <th>time</th>\n",
       "    </tr>\n",
       "  </thead>\n",
       "  <tbody>\n",
       "    <tr>\n",
       "      <th>374494</th>\n",
       "      <td>3HVxkz03TS_ssJ7j3x5dRA</td>\n",
       "      <td>iNYJ-I_4AQfvnJQzXHv8hw</td>\n",
       "      <td>5.0</td>\n",
       "      <td>2</td>\n",
       "      <td>0</td>\n",
       "      <td>0</td>\n",
       "      <td>Originally an old mill from 1832 located in To...</td>\n",
       "      <td>2007-12-15 00:38:57</td>\n",
       "      <td>2007</td>\n",
       "      <td>12</td>\n",
       "      <td>00:38:57</td>\n",
       "    </tr>\n",
       "    <tr>\n",
       "      <th>318025</th>\n",
       "      <td>2Y-28XrkMeeA4FFvv_73tw</td>\n",
       "      <td>13xeC5yKJO4BDyQOI3xxDQ</td>\n",
       "      <td>4.0</td>\n",
       "      <td>4</td>\n",
       "      <td>0</td>\n",
       "      <td>0</td>\n",
       "      <td>I've been looking for a good Persian place dow...</td>\n",
       "      <td>2008-08-22 16:13:51</td>\n",
       "      <td>2008</td>\n",
       "      <td>08</td>\n",
       "      <td>16:13:51</td>\n",
       "    </tr>\n",
       "    <tr>\n",
       "      <th>441960</th>\n",
       "      <td>lyIHmlIK7PKwQeGyR8svJQ</td>\n",
       "      <td>b2z_tzR1pZci99i_cKLNGw</td>\n",
       "      <td>5.0</td>\n",
       "      <td>3</td>\n",
       "      <td>3</td>\n",
       "      <td>2</td>\n",
       "      <td>The panini here is reminiscent of those in Par...</td>\n",
       "      <td>2008-09-20 18:24:09</td>\n",
       "      <td>2008</td>\n",
       "      <td>09</td>\n",
       "      <td>18:24:09</td>\n",
       "    </tr>\n",
       "    <tr>\n",
       "      <th>501584</th>\n",
       "      <td>o19vbA9-BuvHXrE4nYJ60A</td>\n",
       "      <td>y3MNMa0SG_cHC1cwmmntpQ</td>\n",
       "      <td>4.0</td>\n",
       "      <td>0</td>\n",
       "      <td>0</td>\n",
       "      <td>0</td>\n",
       "      <td>The Rebel House has some really, really great ...</td>\n",
       "      <td>2008-09-21 21:00:56</td>\n",
       "      <td>2008</td>\n",
       "      <td>09</td>\n",
       "      <td>21:00:56</td>\n",
       "    </tr>\n",
       "    <tr>\n",
       "      <th>380174</th>\n",
       "      <td>JK_DiDwbl7HX5OhCAh3h4g</td>\n",
       "      <td>BMmtD4a2uTyFxDJ2qHUbSw</td>\n",
       "      <td>2.0</td>\n",
       "      <td>1</td>\n",
       "      <td>0</td>\n",
       "      <td>0</td>\n",
       "      <td>Now, I have not been to this place in quite so...</td>\n",
       "      <td>2008-12-27 02:17:27</td>\n",
       "      <td>2008</td>\n",
       "      <td>12</td>\n",
       "      <td>02:17:27</td>\n",
       "    </tr>\n",
       "  </tbody>\n",
       "</table>\n",
       "</div>"
      ],
      "text/plain": [
       "                   business_id                 user_id  stars  useful  funny  \\\n",
       "374494  3HVxkz03TS_ssJ7j3x5dRA  iNYJ-I_4AQfvnJQzXHv8hw    5.0       2      0   \n",
       "318025  2Y-28XrkMeeA4FFvv_73tw  13xeC5yKJO4BDyQOI3xxDQ    4.0       4      0   \n",
       "441960  lyIHmlIK7PKwQeGyR8svJQ  b2z_tzR1pZci99i_cKLNGw    5.0       3      3   \n",
       "501584  o19vbA9-BuvHXrE4nYJ60A  y3MNMa0SG_cHC1cwmmntpQ    4.0       0      0   \n",
       "380174  JK_DiDwbl7HX5OhCAh3h4g  BMmtD4a2uTyFxDJ2qHUbSw    2.0       1      0   \n",
       "\n",
       "        cool                                               text  \\\n",
       "374494     0  Originally an old mill from 1832 located in To...   \n",
       "318025     0  I've been looking for a good Persian place dow...   \n",
       "441960     2  The panini here is reminiscent of those in Par...   \n",
       "501584     0  The Rebel House has some really, really great ...   \n",
       "380174     0  Now, I have not been to this place in quite so...   \n",
       "\n",
       "                       date  year month      time  \n",
       "374494  2007-12-15 00:38:57  2007    12  00:38:57  \n",
       "318025  2008-08-22 16:13:51  2008    08  16:13:51  \n",
       "441960  2008-09-20 18:24:09  2008    09  18:24:09  \n",
       "501584  2008-09-21 21:00:56  2008    09  21:00:56  \n",
       "380174  2008-12-27 02:17:27  2008    12  02:17:27  "
      ]
     },
     "execution_count": 21,
     "metadata": {},
     "output_type": "execute_result"
    }
   ],
   "source": [
    "# Sort Restaurant Reviews by Year\n",
    "\n",
    "restaurant_sorted = restaurant_reviews.sort_values(by='year', ascending=True)\n",
    "restaurant_sorted.head()"
   ]
  },
  {
   "cell_type": "code",
   "execution_count": 22,
   "metadata": {
    "ExecuteTime": {
     "end_time": "2020-10-14T11:51:12.121371Z",
     "start_time": "2020-10-14T11:45:25.124340Z"
    }
   },
   "outputs": [
    {
     "data": {
      "image/png": "[encoded data removed]",
      "text/plain": [
       "<Figure size 1008x504 with 1 Axes>"
      ]
     },
     "metadata": {
      "needs_background": "light"
     },
     "output_type": "display_data"
    }
   ],
   "source": [
    "# Histogram plot of Restaurant Reviews per Year\n",
    "\n",
    "def make_histogram(dataset, attribute, bins=13, bar_color='#3498db', edge_color='#2980b9', title='Title', xlab='X', ylab='Y', sort_index=False):\n",
    "        \n",
    "    fig, ax = plt.subplots(figsize=(14, 7))\n",
    "    ax.set_title(title, fontsize=24, pad=20)\n",
    "    ax.set_xlabel(xlab, fontsize=16, labelpad=20)\n",
    "    ax.set_ylabel(ylab, fontsize=16, labelpad=20)\n",
    "    \n",
    "    plt.hist(dataset[attribute], bins=bins, color=bar_color, ec=edge_color, linewidth=2) \n",
    "    plt.xticks(rotation=45)\n",
    "    \n",
    "make_histogram(restaurant_sorted, 'year', title='Reviews per year', xlab='Year', ylab='Counts')"
   ]
  },
  {
   "cell_type": "markdown",
   "metadata": {},
   "source": [
    "The histogram has a left-skewed distribution with the majority of reviews being in the last 5 years of the dataset (2015-2019). For the purpose of this Capstone Project, I will only be analyzing reviews from the **past 5 years**."
   ]
  },
  {
   "cell_type": "code",
   "execution_count": 23,
   "metadata": {
    "ExecuteTime": {
     "end_time": "2020-10-14T11:52:33.484123Z",
     "start_time": "2020-10-14T11:51:12.284561Z"
    }
   },
   "outputs": [
    {
     "name": "stdout",
     "output_type": "stream",
     "text": [
      "(415038, 11)\n"
     ]
    },
    {
     "data": {
      "text/html": [
       "<div>\n",
       "<style scoped>\n",
       "    .dataframe tbody tr th:only-of-type {\n",
       "        vertical-align: middle;\n",
       "    }\n",
       "\n",
       "    .dataframe tbody tr th {\n",
       "        vertical-align: top;\n",
       "    }\n",
       "\n",
       "    .dataframe thead th {\n",
       "        text-align: right;\n",
       "    }\n",
       "</style>\n",
       "<table border=\"1\" class=\"dataframe\">\n",
       "  <thead>\n",
       "    <tr style=\"text-align: right;\">\n",
       "      <th></th>\n",
       "      <th>business_id</th>\n",
       "      <th>user_id</th>\n",
       "      <th>stars</th>\n",
       "      <th>useful</th>\n",
       "      <th>funny</th>\n",
       "      <th>cool</th>\n",
       "      <th>text</th>\n",
       "      <th>date</th>\n",
       "      <th>year</th>\n",
       "      <th>month</th>\n",
       "      <th>time</th>\n",
       "    </tr>\n",
       "  </thead>\n",
       "  <tbody>\n",
       "    <tr>\n",
       "      <th>0</th>\n",
       "      <td>l-nL4BmhzpZjcavooO48PQ</td>\n",
       "      <td>HJECayULRM-6xh2GCCvLiA</td>\n",
       "      <td>4.0</td>\n",
       "      <td>2</td>\n",
       "      <td>1</td>\n",
       "      <td>1</td>\n",
       "      <td>ORDER In (Delivery) Review\\n\\nI discovered thi...</td>\n",
       "      <td>2015-10-17 01:38:13</td>\n",
       "      <td>2015</td>\n",
       "      <td>10</td>\n",
       "      <td>01:38:13</td>\n",
       "    </tr>\n",
       "    <tr>\n",
       "      <th>1</th>\n",
       "      <td>qUWqjjjfpB2-4P3He5rsKw</td>\n",
       "      <td>TZQSUDDcA4ek5gBd6BzcjA</td>\n",
       "      <td>4.0</td>\n",
       "      <td>0</td>\n",
       "      <td>0</td>\n",
       "      <td>0</td>\n",
       "      <td>In the heart of Chinatown, I discovered it enr...</td>\n",
       "      <td>2017-06-06 19:04:10</td>\n",
       "      <td>2017</td>\n",
       "      <td>06</td>\n",
       "      <td>19:04:10</td>\n",
       "    </tr>\n",
       "    <tr>\n",
       "      <th>2</th>\n",
       "      <td>YJ2Y_asLIlbo-uijVugLow</td>\n",
       "      <td>Arf9ddxVvO3PsmdZlPBDyA</td>\n",
       "      <td>5.0</td>\n",
       "      <td>0</td>\n",
       "      <td>0</td>\n",
       "      <td>2</td>\n",
       "      <td>As a spicy food fan, when I see a restaurant c...</td>\n",
       "      <td>2015-06-08 18:24:07</td>\n",
       "      <td>2015</td>\n",
       "      <td>06</td>\n",
       "      <td>18:24:07</td>\n",
       "    </tr>\n",
       "    <tr>\n",
       "      <th>3</th>\n",
       "      <td>9Eghhu_LzEJgDKNgisf3rg</td>\n",
       "      <td>iFEM16O5BeKvf_AHs6NzUQ</td>\n",
       "      <td>3.0</td>\n",
       "      <td>0</td>\n",
       "      <td>0</td>\n",
       "      <td>0</td>\n",
       "      <td>Was super excited to bring my boyfriend to thi...</td>\n",
       "      <td>2016-08-25 16:25:12</td>\n",
       "      <td>2016</td>\n",
       "      <td>08</td>\n",
       "      <td>16:25:12</td>\n",
       "    </tr>\n",
       "    <tr>\n",
       "      <th>4</th>\n",
       "      <td>eNFubUPJR7yIQah-NxZN_g</td>\n",
       "      <td>lMIm1Ye7BeVE21xqlImqEw</td>\n",
       "      <td>2.0</td>\n",
       "      <td>0</td>\n",
       "      <td>0</td>\n",
       "      <td>0</td>\n",
       "      <td>Decent food. Fishermen lobster or even congee ...</td>\n",
       "      <td>2017-05-26 01:20:43</td>\n",
       "      <td>2017</td>\n",
       "      <td>05</td>\n",
       "      <td>01:20:43</td>\n",
       "    </tr>\n",
       "  </tbody>\n",
       "</table>\n",
       "</div>"
      ],
      "text/plain": [
       "              business_id                 user_id  stars  useful  funny  cool  \\\n",
       "0  l-nL4BmhzpZjcavooO48PQ  HJECayULRM-6xh2GCCvLiA    4.0       2      1     1   \n",
       "1  qUWqjjjfpB2-4P3He5rsKw  TZQSUDDcA4ek5gBd6BzcjA    4.0       0      0     0   \n",
       "2  YJ2Y_asLIlbo-uijVugLow  Arf9ddxVvO3PsmdZlPBDyA    5.0       0      0     2   \n",
       "3  9Eghhu_LzEJgDKNgisf3rg  iFEM16O5BeKvf_AHs6NzUQ    3.0       0      0     0   \n",
       "4  eNFubUPJR7yIQah-NxZN_g  lMIm1Ye7BeVE21xqlImqEw    2.0       0      0     0   \n",
       "\n",
       "                                                text                 date  \\\n",
       "0  ORDER In (Delivery) Review\\n\\nI discovered thi...  2015-10-17 01:38:13   \n",
       "1  In the heart of Chinatown, I discovered it enr...  2017-06-06 19:04:10   \n",
       "2  As a spicy food fan, when I see a restaurant c...  2015-06-08 18:24:07   \n",
       "3  Was super excited to bring my boyfriend to thi...  2016-08-25 16:25:12   \n",
       "4  Decent food. Fishermen lobster or even congee ...  2017-05-26 01:20:43   \n",
       "\n",
       "   year month      time  \n",
       "0  2015    10  01:38:13  \n",
       "1  2017    06  19:04:10  \n",
       "2  2015    06  18:24:07  \n",
       "3  2016    08  16:25:12  \n",
       "4  2017    05  01:20:43  "
      ]
     },
     "execution_count": 23,
     "metadata": {},
     "output_type": "execute_result"
    }
   ],
   "source": [
    "# Filtering for Restaurant/Food Reviews from 2015-2019\n",
    "\n",
    "restaurant_reviews['year'] = restaurant_reviews['year'].astype(int)\n",
    "restaurant_reviews = restaurant_reviews[restaurant_reviews['year'] >= 2015]\n",
    "\n",
    "# Overview of our Final Reviews Dataset, left with 415,038 rows of Data\n",
    "\n",
    "print(restaurant_reviews.shape)\n",
    "restaurant_reviews.head()"
   ]
  },
  {
   "cell_type": "code",
   "execution_count": 24,
   "metadata": {
    "ExecuteTime": {
     "end_time": "2020-10-14T11:52:46.266251Z",
     "start_time": "2020-10-14T11:52:33.499391Z"
    }
   },
   "outputs": [
    {
     "data": {
      "text/plain": [
       "business_id    0\n",
       "user_id        0\n",
       "stars          0\n",
       "useful         0\n",
       "funny          0\n",
       "cool           0\n",
       "text           0\n",
       "date           0\n",
       "year           0\n",
       "month          0\n",
       "time           0\n",
       "dtype: int64"
      ]
     },
     "execution_count": 24,
     "metadata": {},
     "output_type": "execute_result"
    }
   ],
   "source": [
    "# Checking for Null Values\n",
    "\n",
    "restaurant_reviews.isnull().sum()"
   ]
  },
  {
   "cell_type": "markdown",
   "metadata": {},
   "source": [
    "We have **415,038** rows of reviews data for Restaurants and Food outlets in the city of `Toronto`."
   ]
  },
  {
   "cell_type": "markdown",
   "metadata": {},
   "source": [
    "### User File"
   ]
  },
  {
   "cell_type": "code",
   "execution_count": 25,
   "metadata": {
    "ExecuteTime": {
     "end_time": "2020-10-14T11:54:50.370162Z",
     "start_time": "2020-10-14T11:52:46.274147Z"
    }
   },
   "outputs": [
    {
     "name": "stderr",
     "output_type": "stream",
     "text": [
      "100%|██████████| 1968703/1968703 [00:51<00:00, 37949.89it/s]\n"
     ]
    }
   ],
   "source": [
    "# Importing User JSON File\n",
    "\n",
    "line_count = len(open(\"Data/Kaggle/yelp_academic_dataset_user.json\").readlines())\n",
    "\n",
    "# Creating Columns for Dataframe\n",
    "\n",
    "users, names, review_counts, since, friends, useful, \\\n",
    "            funny, cool, n_fans, years_elite, average_stars = [], [], [], [], [], [], [], [], [], [], []\n",
    "\n",
    "# Iterating through each row of the json file\n",
    "\n",
    "with open(\"Data/Kaggle/yelp_academic_dataset_user.json\") as f:\n",
    "    for line in tqdm(f, total=line_count):\n",
    "        blob = json.loads(line)\n",
    "        users += [blob[\"user_id\"]]\n",
    "        names += [blob[\"name\"]]\n",
    "        review_counts += [blob[\"review_count\"]]\n",
    "        since += [blob[\"yelping_since\"]]\n",
    "        friends += [blob[\"friends\"]]\n",
    "        useful += [blob[\"useful\"]]\n",
    "        funny += [blob[\"funny\"]]\n",
    "        cool += [blob[\"cool\"]]\n",
    "        n_fans += [blob[\"fans\"]]\n",
    "        average_stars += [blob[\"average_stars\"]]\n",
    "\n",
    "# Creating Dataframe for User json file\n",
    "\n",
    "users_df = pd.DataFrame(\n",
    "    {\"user_id\": users, \n",
    "     \"user_name\": names,\n",
    "     \"user_review_count\": review_counts,\n",
    "     \"user_yelp_since\": since,\n",
    "     \"friends\": friends,\n",
    "     \"useful_reviews\": useful,\n",
    "     \"funny_reviews\": funny,\n",
    "     \"cool_reviews\": cool,\n",
    "     \"n_fans\": n_fans,\n",
    "     \"average_stars\": average_stars\n",
    "    }\n",
    ")"
   ]
  },
  {
   "cell_type": "code",
   "execution_count": 26,
   "metadata": {
    "ExecuteTime": {
     "end_time": "2020-10-14T11:54:52.432465Z",
     "start_time": "2020-10-14T11:54:50.392298Z"
    }
   },
   "outputs": [
    {
     "name": "stdout",
     "output_type": "stream",
     "text": [
      "(1047892, 10)\n"
     ]
    },
    {
     "data": {
      "text/html": [
       "<div>\n",
       "<style scoped>\n",
       "    .dataframe tbody tr th:only-of-type {\n",
       "        vertical-align: middle;\n",
       "    }\n",
       "\n",
       "    .dataframe tbody tr th {\n",
       "        vertical-align: top;\n",
       "    }\n",
       "\n",
       "    .dataframe thead th {\n",
       "        text-align: right;\n",
       "    }\n",
       "</style>\n",
       "<table border=\"1\" class=\"dataframe\">\n",
       "  <thead>\n",
       "    <tr style=\"text-align: right;\">\n",
       "      <th></th>\n",
       "      <th>user_id</th>\n",
       "      <th>user_name</th>\n",
       "      <th>user_review_count</th>\n",
       "      <th>user_yelp_since</th>\n",
       "      <th>friends</th>\n",
       "      <th>useful_reviews</th>\n",
       "      <th>funny_reviews</th>\n",
       "      <th>cool_reviews</th>\n",
       "      <th>n_fans</th>\n",
       "      <th>average_stars</th>\n",
       "    </tr>\n",
       "  </thead>\n",
       "  <tbody>\n",
       "    <tr>\n",
       "      <th>261408</th>\n",
       "      <td>wzwyPHDR6bwf_iiQuDl0aw</td>\n",
       "      <td>Katrina</td>\n",
       "      <td>748</td>\n",
       "      <td>2008-08-21 06:30:18</td>\n",
       "      <td>VBPLrOgCd7lWBJz-UfXISg, 7kpm96N3O-OnkGNxIdqqJA...</td>\n",
       "      <td>2403</td>\n",
       "      <td>1245</td>\n",
       "      <td>1948</td>\n",
       "      <td>75</td>\n",
       "      <td>3.85</td>\n",
       "    </tr>\n",
       "    <tr>\n",
       "      <th>194952</th>\n",
       "      <td>oYrKH2Now-qfaUCxpgaBwg</td>\n",
       "      <td>Amy</td>\n",
       "      <td>10</td>\n",
       "      <td>2013-12-13 12:52:30</td>\n",
       "      <td>None</td>\n",
       "      <td>6</td>\n",
       "      <td>0</td>\n",
       "      <td>1</td>\n",
       "      <td>0</td>\n",
       "      <td>4.18</td>\n",
       "    </tr>\n",
       "    <tr>\n",
       "      <th>207457</th>\n",
       "      <td>8ky0KNxVH68t4IkZ8WukrA</td>\n",
       "      <td>Patrick</td>\n",
       "      <td>47</td>\n",
       "      <td>2010-06-13 01:16:35</td>\n",
       "      <td>ZZkqi-ulTw4kvSr2ywQ5mA, 6iz8JxvKOf8Gc86pMpfO_A...</td>\n",
       "      <td>43</td>\n",
       "      <td>15</td>\n",
       "      <td>12</td>\n",
       "      <td>2</td>\n",
       "      <td>4.43</td>\n",
       "    </tr>\n",
       "    <tr>\n",
       "      <th>595465</th>\n",
       "      <td>T8at9imfyLddZ0bueKGkvw</td>\n",
       "      <td>Sarah</td>\n",
       "      <td>13</td>\n",
       "      <td>2010-05-15 16:22:27</td>\n",
       "      <td>eSx4K742fGzQTr7b6_7LCg, RrVGFLb2H0X6wUBCwsc22w...</td>\n",
       "      <td>14</td>\n",
       "      <td>8</td>\n",
       "      <td>10</td>\n",
       "      <td>3</td>\n",
       "      <td>4.62</td>\n",
       "    </tr>\n",
       "    <tr>\n",
       "      <th>1777569</th>\n",
       "      <td>NHNpCIxvHimTmYuycujbhA</td>\n",
       "      <td>Kit</td>\n",
       "      <td>133</td>\n",
       "      <td>2006-08-17 04:06:34</td>\n",
       "      <td>298wIMkzIxjHKEgBXmZpOA, 29IH6EsYMVTnYICoc3XIUg...</td>\n",
       "      <td>381</td>\n",
       "      <td>174</td>\n",
       "      <td>257</td>\n",
       "      <td>33</td>\n",
       "      <td>3.84</td>\n",
       "    </tr>\n",
       "    <tr>\n",
       "      <th>106344</th>\n",
       "      <td>tHWrLTr_Sq3Osl4JAyoQGQ</td>\n",
       "      <td>Nick</td>\n",
       "      <td>18</td>\n",
       "      <td>2015-03-29 16:37:27</td>\n",
       "      <td>tUAZRNQXGqEKkOxt3mTR0A, NPyC9B4ZTrpP51OIc1wRSA...</td>\n",
       "      <td>5</td>\n",
       "      <td>2</td>\n",
       "      <td>1</td>\n",
       "      <td>0</td>\n",
       "      <td>4.50</td>\n",
       "    </tr>\n",
       "    <tr>\n",
       "      <th>176544</th>\n",
       "      <td>qWiKtxvQhNKndwRaEx5CvQ</td>\n",
       "      <td>Marley</td>\n",
       "      <td>14</td>\n",
       "      <td>2013-06-08 16:52:25</td>\n",
       "      <td>None</td>\n",
       "      <td>12</td>\n",
       "      <td>0</td>\n",
       "      <td>1</td>\n",
       "      <td>0</td>\n",
       "      <td>3.14</td>\n",
       "    </tr>\n",
       "    <tr>\n",
       "      <th>1848441</th>\n",
       "      <td>b8Fh6GQgAY2yl35WJi2vvw</td>\n",
       "      <td>Elssa</td>\n",
       "      <td>5</td>\n",
       "      <td>2014-08-24 20:19:28</td>\n",
       "      <td>yPaPLFzlC0PBMxh4cDRqtg, icOh55k2t8gHaxK7wtC2bQ...</td>\n",
       "      <td>2</td>\n",
       "      <td>0</td>\n",
       "      <td>0</td>\n",
       "      <td>0</td>\n",
       "      <td>4.40</td>\n",
       "    </tr>\n",
       "    <tr>\n",
       "      <th>136018</th>\n",
       "      <td>PT3GD403YC7pLPMZoE9m2g</td>\n",
       "      <td>Allen</td>\n",
       "      <td>33</td>\n",
       "      <td>2016-11-30 23:03:12</td>\n",
       "      <td>97GtXojQrF6sct0luiDZrA</td>\n",
       "      <td>10</td>\n",
       "      <td>4</td>\n",
       "      <td>2</td>\n",
       "      <td>0</td>\n",
       "      <td>3.19</td>\n",
       "    </tr>\n",
       "    <tr>\n",
       "      <th>852178</th>\n",
       "      <td>uNKCZa8PRhDi2NwCSYvoCw</td>\n",
       "      <td>Amy</td>\n",
       "      <td>22</td>\n",
       "      <td>2012-02-19 17:42:47</td>\n",
       "      <td>6xAW6w00N3SXwdBcSumG1g</td>\n",
       "      <td>14</td>\n",
       "      <td>4</td>\n",
       "      <td>4</td>\n",
       "      <td>0</td>\n",
       "      <td>4.12</td>\n",
       "    </tr>\n",
       "  </tbody>\n",
       "</table>\n",
       "</div>"
      ],
      "text/plain": [
       "                        user_id user_name  user_review_count  \\\n",
       "261408   wzwyPHDR6bwf_iiQuDl0aw   Katrina                748   \n",
       "194952   oYrKH2Now-qfaUCxpgaBwg       Amy                 10   \n",
       "207457   8ky0KNxVH68t4IkZ8WukrA   Patrick                 47   \n",
       "595465   T8at9imfyLddZ0bueKGkvw     Sarah                 13   \n",
       "1777569  NHNpCIxvHimTmYuycujbhA       Kit                133   \n",
       "106344   tHWrLTr_Sq3Osl4JAyoQGQ      Nick                 18   \n",
       "176544   qWiKtxvQhNKndwRaEx5CvQ    Marley                 14   \n",
       "1848441  b8Fh6GQgAY2yl35WJi2vvw     Elssa                  5   \n",
       "136018   PT3GD403YC7pLPMZoE9m2g     Allen                 33   \n",
       "852178   uNKCZa8PRhDi2NwCSYvoCw       Amy                 22   \n",
       "\n",
       "             user_yelp_since  \\\n",
       "261408   2008-08-21 06:30:18   \n",
       "194952   2013-12-13 12:52:30   \n",
       "207457   2010-06-13 01:16:35   \n",
       "595465   2010-05-15 16:22:27   \n",
       "1777569  2006-08-17 04:06:34   \n",
       "106344   2015-03-29 16:37:27   \n",
       "176544   2013-06-08 16:52:25   \n",
       "1848441  2014-08-24 20:19:28   \n",
       "136018   2016-11-30 23:03:12   \n",
       "852178   2012-02-19 17:42:47   \n",
       "\n",
       "                                                   friends  useful_reviews  \\\n",
       "261408   VBPLrOgCd7lWBJz-UfXISg, 7kpm96N3O-OnkGNxIdqqJA...            2403   \n",
       "194952                                                None               6   \n",
       "207457   ZZkqi-ulTw4kvSr2ywQ5mA, 6iz8JxvKOf8Gc86pMpfO_A...              43   \n",
       "595465   eSx4K742fGzQTr7b6_7LCg, RrVGFLb2H0X6wUBCwsc22w...              14   \n",
       "1777569  298wIMkzIxjHKEgBXmZpOA, 29IH6EsYMVTnYICoc3XIUg...             381   \n",
       "106344   tUAZRNQXGqEKkOxt3mTR0A, NPyC9B4ZTrpP51OIc1wRSA...               5   \n",
       "176544                                                None              12   \n",
       "1848441  yPaPLFzlC0PBMxh4cDRqtg, icOh55k2t8gHaxK7wtC2bQ...               2   \n",
       "136018                              97GtXojQrF6sct0luiDZrA              10   \n",
       "852178                              6xAW6w00N3SXwdBcSumG1g              14   \n",
       "\n",
       "         funny_reviews  cool_reviews  n_fans  average_stars  \n",
       "261408            1245          1948      75           3.85  \n",
       "194952               0             1       0           4.18  \n",
       "207457              15            12       2           4.43  \n",
       "595465               8            10       3           4.62  \n",
       "1777569            174           257      33           3.84  \n",
       "106344               2             1       0           4.50  \n",
       "176544               0             1       0           3.14  \n",
       "1848441              0             0       0           4.40  \n",
       "136018               4             2       0           3.19  \n",
       "852178               4             4       0           4.12  "
      ]
     },
     "execution_count": 26,
     "metadata": {},
     "output_type": "execute_result"
    }
   ],
   "source": [
    "# Filtering for Active Yelp Users who have completed at least 5 reviews\n",
    "\n",
    "users_df = users_df[users_df['user_review_count'] >= 5]\n",
    "\n",
    "# Overview of our JSON Dataframe\n",
    "\n",
    "print(users_df.shape)\n",
    "users_df.sample(10)"
   ]
  },
  {
   "cell_type": "code",
   "execution_count": 27,
   "metadata": {
    "ExecuteTime": {
     "end_time": "2020-10-14T11:54:53.697077Z",
     "start_time": "2020-10-14T11:54:52.437840Z"
    }
   },
   "outputs": [
    {
     "data": {
      "text/plain": [
       "1047892"
      ]
     },
     "execution_count": 27,
     "metadata": {},
     "output_type": "execute_result"
    }
   ],
   "source": [
    "# Number of unique active users in our user_df dataset\n",
    "\n",
    "n_users = len(users_df.user_id.unique())\n",
    "n_users # 1,047,892 unique active users"
   ]
  },
  {
   "cell_type": "code",
   "execution_count": 28,
   "metadata": {
    "ExecuteTime": {
     "end_time": "2020-10-14T11:54:54.988738Z",
     "start_time": "2020-10-14T11:54:53.703815Z"
    }
   },
   "outputs": [
    {
     "data": {
      "text/plain": [
       "user_id              0\n",
       "user_name            0\n",
       "user_review_count    0\n",
       "user_yelp_since      0\n",
       "friends              0\n",
       "useful_reviews       0\n",
       "funny_reviews        0\n",
       "cool_reviews         0\n",
       "n_fans               0\n",
       "average_stars        0\n",
       "dtype: int64"
      ]
     },
     "execution_count": 28,
     "metadata": {},
     "output_type": "execute_result"
    }
   ],
   "source": [
    "# Checking for Null Values\n",
    "\n",
    "users_df.isnull().sum()"
   ]
  },
  {
   "cell_type": "markdown",
   "metadata": {},
   "source": [
    "### Finalizing Restaurants Business Dataset"
   ]
  },
  {
   "cell_type": "code",
   "execution_count": 29,
   "metadata": {
    "ExecuteTime": {
     "end_time": "2020-10-14T11:54:56.994083Z",
     "start_time": "2020-10-14T11:54:54.994385Z"
    }
   },
   "outputs": [
    {
     "data": {
      "text/plain": [
       "ON    11100\n",
       "Name: state, dtype: int64"
      ]
     },
     "execution_count": 29,
     "metadata": {},
     "output_type": "execute_result"
    }
   ],
   "source": [
    "# Number of Restaurant Businesses in the state of Ontario\n",
    "\n",
    "business_food.state.value_counts()"
   ]
  },
  {
   "cell_type": "code",
   "execution_count": 30,
   "metadata": {
    "ExecuteTime": {
     "end_time": "2020-10-14T11:55:04.812687Z",
     "start_time": "2020-10-14T11:54:56.998564Z"
    }
   },
   "outputs": [
    {
     "data": {
      "text/plain": [
       "(array([   0., 1000., 2000., 3000., 4000., 5000., 6000.]),\n",
       " <a list of 7 Text xticklabel objects>)"
      ]
     },
     "execution_count": 30,
     "metadata": {},
     "output_type": "execute_result"
    },
    {
     "data": {
      "image/png": "[encoded data removed]",
      "text/plain": [
       "<Figure size 1008x504 with 1 Axes>"
      ]
     },
     "metadata": {
      "needs_background": "light"
     },
     "output_type": "display_data"
    }
   ],
   "source": [
    "# Distribution of Cities with Most Restaurant Businesses in Ontario\n",
    "\n",
    "#business_on = business_food[business_food['state']=='ON']\n",
    "ontario_cities = business_food['city']\n",
    "top_cities = ontario_cities.value_counts().head(10)\n",
    "top_cities.sort_values(inplace=True)\n",
    "\n",
    "fig, ax = plt.subplots(figsize=(14, 7), )\n",
    "fig.suptitle('Top 10 Cities with Most Restaurant Businesses in Ontario', fontsize=18)\n",
    "\n",
    "top_cities.plot(kind = 'barh', color= 'darkorange')\n",
    "\n",
    "plt.ylabel('Cities in Ontario', fontsize=15)\n",
    "plt.xlabel('Number of Restaurants per City', fontsize=15)\n",
    "plt.xticks(rotation=65)"
   ]
  },
  {
   "cell_type": "markdown",
   "metadata": {},
   "source": [
    "Based on the above plot, business data is heavily skewed with the city of `Toronto` having the majority of the business data. Hence, it will be more concise for me to focus just on the city of `Toronto` and drop the rest of the cities in the state of `Ontario`."
   ]
  },
  {
   "cell_type": "code",
   "execution_count": 31,
   "metadata": {
    "ExecuteTime": {
     "end_time": "2020-10-14T11:55:09.634504Z",
     "start_time": "2020-10-14T11:55:04.838582Z"
    }
   },
   "outputs": [
    {
     "name": "stdout",
     "output_type": "stream",
     "text": [
      "(5471, 12)\n"
     ]
    },
    {
     "data": {
      "text/html": [
       "<div>\n",
       "<style scoped>\n",
       "    .dataframe tbody tr th:only-of-type {\n",
       "        vertical-align: middle;\n",
       "    }\n",
       "\n",
       "    .dataframe tbody tr th {\n",
       "        vertical-align: top;\n",
       "    }\n",
       "\n",
       "    .dataframe thead th {\n",
       "        text-align: right;\n",
       "    }\n",
       "</style>\n",
       "<table border=\"1\" class=\"dataframe\">\n",
       "  <thead>\n",
       "    <tr style=\"text-align: right;\">\n",
       "      <th></th>\n",
       "      <th>business_id</th>\n",
       "      <th>name</th>\n",
       "      <th>city</th>\n",
       "      <th>state</th>\n",
       "      <th>stars</th>\n",
       "      <th>review_count</th>\n",
       "      <th>categories</th>\n",
       "      <th>latitude</th>\n",
       "      <th>longitude</th>\n",
       "      <th>is_open</th>\n",
       "      <th>postal_code</th>\n",
       "      <th>key</th>\n",
       "    </tr>\n",
       "  </thead>\n",
       "  <tbody>\n",
       "    <tr>\n",
       "      <th>73</th>\n",
       "      <td>0QjROMVW9ACKjhSEfHqNCQ</td>\n",
       "      <td>Mi Mi Restaurant</td>\n",
       "      <td>Toronto</td>\n",
       "      <td>ON</td>\n",
       "      <td>4.0</td>\n",
       "      <td>116</td>\n",
       "      <td>Vietnamese, Restaurants</td>\n",
       "      <td>43.666376</td>\n",
       "      <td>-79.348773</td>\n",
       "      <td>1</td>\n",
       "      <td>M4M 1Y3</td>\n",
       "      <td>0QjROMVW9ACKjhSEfHqNCQ</td>\n",
       "    </tr>\n",
       "    <tr>\n",
       "      <th>110</th>\n",
       "      <td>8k62wYhDVq1-652YbJi5eg</td>\n",
       "      <td>Tim Hortons</td>\n",
       "      <td>Toronto</td>\n",
       "      <td>ON</td>\n",
       "      <td>3.0</td>\n",
       "      <td>8</td>\n",
       "      <td>Bagels, Donuts, Food, Cafes, Coffee &amp; Tea, Res...</td>\n",
       "      <td>43.649859</td>\n",
       "      <td>-79.382060</td>\n",
       "      <td>1</td>\n",
       "      <td>M5H 3V9</td>\n",
       "      <td>8k62wYhDVq1-652YbJi5eg</td>\n",
       "    </tr>\n",
       "    <tr>\n",
       "      <th>111</th>\n",
       "      <td>PYLv9n0y8MimzTK2zCBoFw</td>\n",
       "      <td>GIG@bites Internet Cafe</td>\n",
       "      <td>Toronto</td>\n",
       "      <td>ON</td>\n",
       "      <td>3.0</td>\n",
       "      <td>4</td>\n",
       "      <td>Home Services, Shopping, IT Services &amp; Compute...</td>\n",
       "      <td>43.664707</td>\n",
       "      <td>-79.413939</td>\n",
       "      <td>1</td>\n",
       "      <td>M6G</td>\n",
       "      <td>PYLv9n0y8MimzTK2zCBoFw</td>\n",
       "    </tr>\n",
       "    <tr>\n",
       "      <th>149</th>\n",
       "      <td>0DnQh8SE8BSnvJltGCCiWg</td>\n",
       "      <td>Chick-N-Joy</td>\n",
       "      <td>Toronto</td>\n",
       "      <td>ON</td>\n",
       "      <td>3.0</td>\n",
       "      <td>11</td>\n",
       "      <td>Fast Food, Restaurants, Chicken Shop</td>\n",
       "      <td>43.765279</td>\n",
       "      <td>-79.326248</td>\n",
       "      <td>1</td>\n",
       "      <td>M3A 1Z3</td>\n",
       "      <td>0DnQh8SE8BSnvJltGCCiWg</td>\n",
       "    </tr>\n",
       "    <tr>\n",
       "      <th>150</th>\n",
       "      <td>NLaK58WvlNQdUunSIkt-jA</td>\n",
       "      <td>Zav Coffee Shop &amp; Gallery</td>\n",
       "      <td>Toronto</td>\n",
       "      <td>ON</td>\n",
       "      <td>4.5</td>\n",
       "      <td>24</td>\n",
       "      <td>Coffee &amp; Tea, Restaurants, Sandwiches, Food</td>\n",
       "      <td>43.685608</td>\n",
       "      <td>-79.313936</td>\n",
       "      <td>1</td>\n",
       "      <td>M4C 1J6</td>\n",
       "      <td>NLaK58WvlNQdUunSIkt-jA</td>\n",
       "    </tr>\n",
       "  </tbody>\n",
       "</table>\n",
       "</div>"
      ],
      "text/plain": [
       "               business_id                        name     city state  stars  \\\n",
       "73   0QjROMVW9ACKjhSEfHqNCQ           Mi Mi Restaurant  Toronto    ON    4.0   \n",
       "110  8k62wYhDVq1-652YbJi5eg                Tim Hortons  Toronto    ON    3.0   \n",
       "111  PYLv9n0y8MimzTK2zCBoFw    GIG@bites Internet Cafe  Toronto    ON    3.0   \n",
       "149  0DnQh8SE8BSnvJltGCCiWg                Chick-N-Joy  Toronto    ON    3.0   \n",
       "150  NLaK58WvlNQdUunSIkt-jA  Zav Coffee Shop & Gallery  Toronto    ON    4.5   \n",
       "\n",
       "     review_count                                         categories  \\\n",
       "73            116                            Vietnamese, Restaurants   \n",
       "110             8  Bagels, Donuts, Food, Cafes, Coffee & Tea, Res...   \n",
       "111             4  Home Services, Shopping, IT Services & Compute...   \n",
       "149            11               Fast Food, Restaurants, Chicken Shop   \n",
       "150            24        Coffee & Tea, Restaurants, Sandwiches, Food   \n",
       "\n",
       "      latitude  longitude  is_open postal_code                     key  \n",
       "73   43.666376 -79.348773        1     M4M 1Y3  0QjROMVW9ACKjhSEfHqNCQ  \n",
       "110  43.649859 -79.382060        1     M5H 3V9  8k62wYhDVq1-652YbJi5eg  \n",
       "111  43.664707 -79.413939        1         M6G  PYLv9n0y8MimzTK2zCBoFw  \n",
       "149  43.765279 -79.326248        1     M3A 1Z3  0DnQh8SE8BSnvJltGCCiWg  \n",
       "150  43.685608 -79.313936        1     M4C 1J6  NLaK58WvlNQdUunSIkt-jA  "
      ]
     },
     "execution_count": 31,
     "metadata": {},
     "output_type": "execute_result"
    }
   ],
   "source": [
    "# Filtering for Restaurant Business Data in the city of Toronto\n",
    "\n",
    "business_toronto = business_food[business_food['city'] == 'Toronto']\n",
    "print(business_toronto.shape)\n",
    "business_toronto.head()"
   ]
  },
  {
   "cell_type": "markdown",
   "metadata": {},
   "source": [
    "After filtering, we are now left with **5,471** Restaurant Businesses Data in the city of Toronto in our dataset."
   ]
  },
  {
   "cell_type": "code",
   "execution_count": 32,
   "metadata": {
    "ExecuteTime": {
     "end_time": "2020-10-14T11:55:35.682517Z",
     "start_time": "2020-10-14T11:55:09.644258Z"
    }
   },
   "outputs": [
    {
     "name": "stderr",
     "output_type": "stream",
     "text": [
      "/opt/anaconda3/lib/python3.7/site-packages/ipykernel_launcher.py:3: SettingWithCopyWarning: \n",
      "A value is trying to be set on a copy of a slice from a DataFrame.\n",
      "Try using .loc[row_indexer,col_indexer] = value instead\n",
      "\n",
      "See the caveats in the documentation: https://pandas.pydata.org/pandas-docs/stable/user_guide/indexing.html#returning-a-view-versus-a-copy\n",
      "  This is separate from the ipykernel package so we can avoid doing imports until\n"
     ]
    },
    {
     "name": "stdout",
     "output_type": "stream",
     "text": [
      "(253050, 11)\n"
     ]
    },
    {
     "data": {
      "text/html": [
       "<div>\n",
       "<style scoped>\n",
       "    .dataframe tbody tr th:only-of-type {\n",
       "        vertical-align: middle;\n",
       "    }\n",
       "\n",
       "    .dataframe tbody tr th {\n",
       "        vertical-align: top;\n",
       "    }\n",
       "\n",
       "    .dataframe thead th {\n",
       "        text-align: right;\n",
       "    }\n",
       "</style>\n",
       "<table border=\"1\" class=\"dataframe\">\n",
       "  <thead>\n",
       "    <tr style=\"text-align: right;\">\n",
       "      <th></th>\n",
       "      <th>business_id</th>\n",
       "      <th>user_id</th>\n",
       "      <th>stars</th>\n",
       "      <th>useful</th>\n",
       "      <th>funny</th>\n",
       "      <th>cool</th>\n",
       "      <th>text</th>\n",
       "      <th>date</th>\n",
       "      <th>year</th>\n",
       "      <th>month</th>\n",
       "      <th>time</th>\n",
       "    </tr>\n",
       "  </thead>\n",
       "  <tbody>\n",
       "    <tr>\n",
       "      <th>0</th>\n",
       "      <td>qUWqjjjfpB2-4P3He5rsKw</td>\n",
       "      <td>TZQSUDDcA4ek5gBd6BzcjA</td>\n",
       "      <td>4.0</td>\n",
       "      <td>0</td>\n",
       "      <td>0</td>\n",
       "      <td>0</td>\n",
       "      <td>In the heart of Chinatown, I discovered it enr...</td>\n",
       "      <td>2017-06-06 19:04:10</td>\n",
       "      <td>2017</td>\n",
       "      <td>06</td>\n",
       "      <td>19:04:10</td>\n",
       "    </tr>\n",
       "    <tr>\n",
       "      <th>1</th>\n",
       "      <td>9Eghhu_LzEJgDKNgisf3rg</td>\n",
       "      <td>iFEM16O5BeKvf_AHs6NzUQ</td>\n",
       "      <td>3.0</td>\n",
       "      <td>0</td>\n",
       "      <td>0</td>\n",
       "      <td>0</td>\n",
       "      <td>Was super excited to bring my boyfriend to thi...</td>\n",
       "      <td>2016-08-25 16:25:12</td>\n",
       "      <td>2016</td>\n",
       "      <td>08</td>\n",
       "      <td>16:25:12</td>\n",
       "    </tr>\n",
       "    <tr>\n",
       "      <th>2</th>\n",
       "      <td>jM6JjZXFAQQANwdlEwbH3g</td>\n",
       "      <td>IIE2OX5haarGNefY23R8BA</td>\n",
       "      <td>5.0</td>\n",
       "      <td>0</td>\n",
       "      <td>0</td>\n",
       "      <td>0</td>\n",
       "      <td>My absolutely favorite mushroom pizza in the c...</td>\n",
       "      <td>2016-04-23 03:32:19</td>\n",
       "      <td>2016</td>\n",
       "      <td>04</td>\n",
       "      <td>03:32:19</td>\n",
       "    </tr>\n",
       "    <tr>\n",
       "      <th>3</th>\n",
       "      <td>PMPMHHLe9vFzcR67iCjgLA</td>\n",
       "      <td>RRhco4irDXPk5EJmvuwr2w</td>\n",
       "      <td>5.0</td>\n",
       "      <td>0</td>\n",
       "      <td>0</td>\n",
       "      <td>2</td>\n",
       "      <td>Been to this a couple of times. Excellent food...</td>\n",
       "      <td>2016-01-17 05:23:59</td>\n",
       "      <td>2016</td>\n",
       "      <td>01</td>\n",
       "      <td>05:23:59</td>\n",
       "    </tr>\n",
       "    <tr>\n",
       "      <th>4</th>\n",
       "      <td>tWdp26XQEJqJGnRmFVJQxA</td>\n",
       "      <td>IeojscL3rg3x3vtmR-hWlA</td>\n",
       "      <td>4.0</td>\n",
       "      <td>0</td>\n",
       "      <td>0</td>\n",
       "      <td>0</td>\n",
       "      <td>The pizza is very, very good! We arrived 15 mi...</td>\n",
       "      <td>2018-07-17 01:49:01</td>\n",
       "      <td>2018</td>\n",
       "      <td>07</td>\n",
       "      <td>01:49:01</td>\n",
       "    </tr>\n",
       "  </tbody>\n",
       "</table>\n",
       "</div>"
      ],
      "text/plain": [
       "              business_id                 user_id  stars  useful  funny  cool  \\\n",
       "0  qUWqjjjfpB2-4P3He5rsKw  TZQSUDDcA4ek5gBd6BzcjA    4.0       0      0     0   \n",
       "1  9Eghhu_LzEJgDKNgisf3rg  iFEM16O5BeKvf_AHs6NzUQ    3.0       0      0     0   \n",
       "2  jM6JjZXFAQQANwdlEwbH3g  IIE2OX5haarGNefY23R8BA    5.0       0      0     0   \n",
       "3  PMPMHHLe9vFzcR67iCjgLA  RRhco4irDXPk5EJmvuwr2w    5.0       0      0     2   \n",
       "4  tWdp26XQEJqJGnRmFVJQxA  IeojscL3rg3x3vtmR-hWlA    4.0       0      0     0   \n",
       "\n",
       "                                                text                 date  \\\n",
       "0  In the heart of Chinatown, I discovered it enr...  2017-06-06 19:04:10   \n",
       "1  Was super excited to bring my boyfriend to thi...  2016-08-25 16:25:12   \n",
       "2  My absolutely favorite mushroom pizza in the c...  2016-04-23 03:32:19   \n",
       "3  Been to this a couple of times. Excellent food...  2016-01-17 05:23:59   \n",
       "4  The pizza is very, very good! We arrived 15 mi...  2018-07-17 01:49:01   \n",
       "\n",
       "   year month      time  \n",
       "0  2017    06  19:04:10  \n",
       "1  2016    08  16:25:12  \n",
       "2  2016    04  03:32:19  \n",
       "3  2016    01  05:23:59  \n",
       "4  2018    07  01:49:01  "
      ]
     },
     "execution_count": 32,
     "metadata": {},
     "output_type": "execute_result"
    }
   ],
   "source": [
    "# Filtering for Yelp Customer Reviews for our final Restaurant Business Dataset\n",
    "\n",
    "business_toronto['key'] = business_toronto.iloc[:,0]\n",
    "reviews_final = restaurant_reviews[restaurant_reviews['business_id'].isin(business_toronto['key'])]\n",
    "reviews_final = reviews_final.reset_index().iloc[:,1:]\n",
    "print(reviews_final.shape)\n",
    "reviews_final.head()"
   ]
  },
  {
   "cell_type": "markdown",
   "metadata": {},
   "source": [
    "We are now left with **253,050 rows of Yelp User Reviews Data** for our **5,471 Restaurant Businesses** in `Toronto`."
   ]
  },
  {
   "cell_type": "code",
   "execution_count": 33,
   "metadata": {
    "ExecuteTime": {
     "end_time": "2020-10-14T11:55:44.636615Z",
     "start_time": "2020-10-14T11:55:35.691529Z"
    }
   },
   "outputs": [
    {
     "name": "stdout",
     "output_type": "stream",
     "text": [
      "(44485, 10)\n"
     ]
    },
    {
     "data": {
      "text/html": [
       "<div>\n",
       "<style scoped>\n",
       "    .dataframe tbody tr th:only-of-type {\n",
       "        vertical-align: middle;\n",
       "    }\n",
       "\n",
       "    .dataframe tbody tr th {\n",
       "        vertical-align: top;\n",
       "    }\n",
       "\n",
       "    .dataframe thead th {\n",
       "        text-align: right;\n",
       "    }\n",
       "</style>\n",
       "<table border=\"1\" class=\"dataframe\">\n",
       "  <thead>\n",
       "    <tr style=\"text-align: right;\">\n",
       "      <th></th>\n",
       "      <th>user_id</th>\n",
       "      <th>user_name</th>\n",
       "      <th>user_review_count</th>\n",
       "      <th>user_yelp_since</th>\n",
       "      <th>friends</th>\n",
       "      <th>useful_reviews</th>\n",
       "      <th>funny_reviews</th>\n",
       "      <th>cool_reviews</th>\n",
       "      <th>n_fans</th>\n",
       "      <th>average_stars</th>\n",
       "    </tr>\n",
       "  </thead>\n",
       "  <tbody>\n",
       "    <tr>\n",
       "      <th>0</th>\n",
       "      <td>q-v8elVPvKz0KvK69QSj1Q</td>\n",
       "      <td>Lisa Marie</td>\n",
       "      <td>666</td>\n",
       "      <td>2009-05-19 01:42:25</td>\n",
       "      <td>rt1KveqwFMnkN6dXKg5Qyg, NfnKx3z7zFottS3yHabw1g...</td>\n",
       "      <td>2993</td>\n",
       "      <td>1281</td>\n",
       "      <td>1832</td>\n",
       "      <td>197</td>\n",
       "      <td>3.37</td>\n",
       "    </tr>\n",
       "    <tr>\n",
       "      <th>1</th>\n",
       "      <td>dIIKEfOgo0KqUfGQvGikPg</td>\n",
       "      <td>Gabi</td>\n",
       "      <td>2061</td>\n",
       "      <td>2007-08-10 19:01:51</td>\n",
       "      <td>6Y-l3x4LpUNhTBVMTFmTmA, HYNhRw_-8g660mpnwY2VJA...</td>\n",
       "      <td>20024</td>\n",
       "      <td>9684</td>\n",
       "      <td>16904</td>\n",
       "      <td>971</td>\n",
       "      <td>4.07</td>\n",
       "    </tr>\n",
       "    <tr>\n",
       "      <th>2</th>\n",
       "      <td>kxj7TPtJY2zbEjGV0PYfAA</td>\n",
       "      <td>Jenna</td>\n",
       "      <td>1399</td>\n",
       "      <td>2008-08-04 03:29:54</td>\n",
       "      <td>DecNq9BYtMwHhgdnPNGbVQ, rN36leHXl7n4LOJ_6Dh0zA...</td>\n",
       "      <td>7341</td>\n",
       "      <td>4510</td>\n",
       "      <td>4912</td>\n",
       "      <td>89</td>\n",
       "      <td>3.82</td>\n",
       "    </tr>\n",
       "    <tr>\n",
       "      <th>3</th>\n",
       "      <td>l8IP6fObyuueE0s1drIy8A</td>\n",
       "      <td>JP</td>\n",
       "      <td>34</td>\n",
       "      <td>2010-03-18 20:48:31</td>\n",
       "      <td>m4-0aN5ccqG3xKgF8ph1HA, 3KylATQZ-5B7yDlCiRWzcA...</td>\n",
       "      <td>34</td>\n",
       "      <td>12</td>\n",
       "      <td>13</td>\n",
       "      <td>3</td>\n",
       "      <td>3.66</td>\n",
       "    </tr>\n",
       "    <tr>\n",
       "      <th>4</th>\n",
       "      <td>L1px4LQVX-zO8qw0grD1Ug</td>\n",
       "      <td>Dawne</td>\n",
       "      <td>264</td>\n",
       "      <td>2009-01-25 08:55:46</td>\n",
       "      <td>biRYNwnfjTFgZSszvbU3uw, t1d8IHrBTaWXuptVvRckjw...</td>\n",
       "      <td>745</td>\n",
       "      <td>263</td>\n",
       "      <td>466</td>\n",
       "      <td>47</td>\n",
       "      <td>4.16</td>\n",
       "    </tr>\n",
       "  </tbody>\n",
       "</table>\n",
       "</div>"
      ],
      "text/plain": [
       "                  user_id   user_name  user_review_count      user_yelp_since  \\\n",
       "0  q-v8elVPvKz0KvK69QSj1Q  Lisa Marie                666  2009-05-19 01:42:25   \n",
       "1  dIIKEfOgo0KqUfGQvGikPg        Gabi               2061  2007-08-10 19:01:51   \n",
       "2  kxj7TPtJY2zbEjGV0PYfAA       Jenna               1399  2008-08-04 03:29:54   \n",
       "3  l8IP6fObyuueE0s1drIy8A          JP                 34  2010-03-18 20:48:31   \n",
       "4  L1px4LQVX-zO8qw0grD1Ug       Dawne                264  2009-01-25 08:55:46   \n",
       "\n",
       "                                             friends  useful_reviews  \\\n",
       "0  rt1KveqwFMnkN6dXKg5Qyg, NfnKx3z7zFottS3yHabw1g...            2993   \n",
       "1  6Y-l3x4LpUNhTBVMTFmTmA, HYNhRw_-8g660mpnwY2VJA...           20024   \n",
       "2  DecNq9BYtMwHhgdnPNGbVQ, rN36leHXl7n4LOJ_6Dh0zA...            7341   \n",
       "3  m4-0aN5ccqG3xKgF8ph1HA, 3KylATQZ-5B7yDlCiRWzcA...              34   \n",
       "4  biRYNwnfjTFgZSszvbU3uw, t1d8IHrBTaWXuptVvRckjw...             745   \n",
       "\n",
       "   funny_reviews  cool_reviews  n_fans  average_stars  \n",
       "0           1281          1832     197           3.37  \n",
       "1           9684         16904     971           4.07  \n",
       "2           4510          4912      89           3.82  \n",
       "3             12            13       3           3.66  \n",
       "4            263           466      47           4.16  "
      ]
     },
     "execution_count": 33,
     "metadata": {},
     "output_type": "execute_result"
    }
   ],
   "source": [
    "# Filtering for our final Yelp Users Dataset\n",
    "\n",
    "reviews_final['key'] = reviews_final.iloc[:,1]\n",
    "users_final = users_df[users_df['user_id'].isin(reviews_final['key'])]\n",
    "users_final = users_final.reset_index().iloc[:,1:]\n",
    "print(users_final.shape)\n",
    "users_final.head()"
   ]
  },
  {
   "cell_type": "markdown",
   "metadata": {},
   "source": [
    "We are now left with **44,485 unique active Yelp User Data** for our **253,050 rows of Yelp User Reviews Data** for our **5,471 Restaurant Businesses** in `Toronto`."
   ]
  },
  {
   "cell_type": "markdown",
   "metadata": {},
   "source": [
    "### Saving Dataframes into CSV Files"
   ]
  },
  {
   "cell_type": "markdown",
   "metadata": {},
   "source": [
    "Having finalized my filtered datasets, I will be saving them into CSVs and will be using these files for subsequent Jupyter Notebooks in this repository."
   ]
  },
  {
   "cell_type": "code",
   "execution_count": 34,
   "metadata": {
    "ExecuteTime": {
     "end_time": "2020-10-14T11:55:45.089729Z",
     "start_time": "2020-10-14T11:55:44.650067Z"
    }
   },
   "outputs": [],
   "source": [
    "# Save business_final into csv file\n",
    "\n",
    "business_toronto.to_csv(\"Data/Part_1/business_final.csv\")"
   ]
  },
  {
   "cell_type": "code",
   "execution_count": 35,
   "metadata": {
    "ExecuteTime": {
     "end_time": "2020-10-14T12:01:59.887770Z",
     "start_time": "2020-10-14T11:55:45.096540Z"
    }
   },
   "outputs": [],
   "source": [
    "# Save reviews_final into csv file\n",
    "\n",
    "reviews_final.to_csv(\"Data/Part_1/reviews_final.csv\")"
   ]
  },
  {
   "cell_type": "code",
   "execution_count": 36,
   "metadata": {
    "ExecuteTime": {
     "end_time": "2020-10-14T12:02:15.938704Z",
     "start_time": "2020-10-14T12:01:59.954251Z"
    }
   },
   "outputs": [],
   "source": [
    "# Save users_final into csv file\n",
    "\n",
    "users_final.to_csv(\"Data/Part_1/users_final.csv\")"
   ]
  }
 ],
 "metadata": {
  "kernelspec": {
   "display_name": "Python 3",
   "language": "python",
   "name": "python3"
  },
  "language_info": {
   "codemirror_mode": {
    "name": "ipython",
    "version": 3
   },
   "file_extension": ".py",
   "mimetype": "text/x-python",
   "name": "python",
   "nbconvert_exporter": "python",
   "pygments_lexer": "ipython3",
   "version": "3.7.7"
  },
  "toc": {
   "base_numbering": 1,
   "nav_menu": {},
   "number_sections": true,
   "sideBar": true,
   "skip_h1_title": false,
   "title_cell": "Table of Contents",
   "title_sidebar": "Contents",
   "toc_cell": false,
   "toc_position": {},
   "toc_section_display": true,
   "toc_window_display": true
  }
 },
 "nbformat": 4,
 "nbformat_minor": 4
}
